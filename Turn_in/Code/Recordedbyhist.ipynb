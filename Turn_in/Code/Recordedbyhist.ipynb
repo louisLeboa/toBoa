{
 "cells": [
  {
   "cell_type": "markdown",
   "metadata": {},
   "source": [
    "# Attempt to Normalize Occurence Data!\n",
    "We began by finding the best other column to normalize the data on in our case that was 'recordedby' column. With te occurence data normlaized we tried a least means squares regression to provide us with statistics to confirm or bust the idea that temperture has a orrelation to mushroom occurence.\n"
   ]
  },
  {
   "cell_type": "code",
   "execution_count": 1,
   "metadata": {},
   "outputs": [],
   "source": [
    "import numpy as np\n",
    "import pandas as pd\n",
    "import matplotlib.pyplot as plt\n",
    "%matplotlib inline\n"
   ]
  },
  {
   "cell_type": "code",
   "execution_count": 6,
   "metadata": {},
   "outputs": [
    {
     "name": "stdout",
     "output_type": "stream",
     "text": [
      "351\n"
     ]
    },
    {
     "name": "stderr",
     "output_type": "stream",
     "text": [
      "/Users/louis/anaconda3/lib/python3.7/site-packages/IPython/core/interactiveshell.py:3020: DtypeWarning: Columns (10,33,36,40,43) have mixed types. Specify dtype option on import or set low_memory=False.\n",
      "  interactivity=interactivity, compiler=compiler, result=result)\n"
     ]
    }
   ],
   "source": [
    "#imports the fungi_data\n",
    "fungi_data = pd.read_csv(\"march_6_fungi_data.csv\",  delimiter = \"\\t\")\n",
    "\n",
    "## NOTE: Drops the columns of data that are not useful to us.\n",
    "fungi_clean = fungi_data.drop(['datasetKey', 'kingdom', 'phylum', 'order','class', 'taxonRank', \n",
    "                               'infraspecificEpithet', 'species', 'license', 'mediaType', \n",
    "                               'issue','institutionCode', 'collectionCode','catalogNumber', 'recordNumber',\n",
    "                               'identifiedBy', 'dateIdentified', 'typeStatus', 'establishmentMeans', 'lastInterpreted',\n",
    "                               'basisOfRecord',  'elevationAccuracy', 'depth', 'depthAccuracy', 'coordinatePrecision',\n",
    "                               'elevation', 'countryCode',  'eventDate', 'taxonKey','speciesKey',\n",
    "                               'gbifID', 'occurrenceID', 'day'], \n",
    "                              axis = 1)\n",
    "\n",
    "fungi_clean = fungi_clean.sort_values('year')\n",
    "year_num = 2018\n",
    "data_rh = fungi_clean.loc[fungi_clean['year'] == year_num, 'recordedBy' ]\n",
    "print(data_rh.nunique(dropna=True))\n",
    "\n",
    "\n"
   ]
  },
  {
   "cell_type": "code",
   "execution_count": 7,
   "metadata": {},
   "outputs": [
    {
     "data": {
      "text/html": [
       "<div>\n",
       "<style scoped>\n",
       "    .dataframe tbody tr th:only-of-type {\n",
       "        vertical-align: middle;\n",
       "    }\n",
       "\n",
       "    .dataframe tbody tr th {\n",
       "        vertical-align: top;\n",
       "    }\n",
       "\n",
       "    .dataframe thead th {\n",
       "        text-align: right;\n",
       "    }\n",
       "</style>\n",
       "<table border=\"1\" class=\"dataframe\">\n",
       "  <thead>\n",
       "    <tr style=\"text-align: right;\">\n",
       "      <th></th>\n",
       "      <th>family</th>\n",
       "      <th>genus</th>\n",
       "      <th>scientificName</th>\n",
       "      <th>locality</th>\n",
       "      <th>publishingOrgKey</th>\n",
       "      <th>decimalLatitude</th>\n",
       "      <th>decimalLongitude</th>\n",
       "      <th>coordinateUncertaintyInMeters</th>\n",
       "      <th>month</th>\n",
       "      <th>year</th>\n",
       "      <th>rightsHolder</th>\n",
       "      <th>recordedBy</th>\n",
       "    </tr>\n",
       "  </thead>\n",
       "  <tbody>\n",
       "    <tr>\n",
       "      <th>39768</th>\n",
       "      <td>Cantharellaceae</td>\n",
       "      <td>Cantharellus</td>\n",
       "      <td>Cantharellus cinereus (Pers.) Fr.</td>\n",
       "      <td>No locality information available</td>\n",
       "      <td>883ee5d0-9177-423d-a636-0284e8a4de46</td>\n",
       "      <td>56.08603</td>\n",
       "      <td>14.35018</td>\n",
       "      <td>NaN</td>\n",
       "      <td>10.0</td>\n",
       "      <td>1950</td>\n",
       "      <td>NaN</td>\n",
       "      <td>Olof Andersson</td>\n",
       "    </tr>\n",
       "    <tr>\n",
       "      <th>39591</th>\n",
       "      <td>Botryobasidiaceae</td>\n",
       "      <td>Botryobasidium</td>\n",
       "      <td>Botryobasidium subcoronatum (Höhn. &amp; Litsch.) ...</td>\n",
       "      <td>S om Muddus nationalpark, nära Njuoravuolle-st...</td>\n",
       "      <td>4c415e40-1e21-11de-9e40-a0d6ecebb8bf</td>\n",
       "      <td>NaN</td>\n",
       "      <td>NaN</td>\n",
       "      <td>NaN</td>\n",
       "      <td>6.0</td>\n",
       "      <td>1950</td>\n",
       "      <td>NaN</td>\n",
       "      <td>Berit Eriksson &amp; John Eriksson</td>\n",
       "    </tr>\n",
       "    <tr>\n",
       "      <th>39590</th>\n",
       "      <td>Botryobasidiaceae</td>\n",
       "      <td>Botryobasidium</td>\n",
       "      <td>Botryobasidium subcoronatum (Höhn. &amp; Litsch.) ...</td>\n",
       "      <td>S om Muddus nationalpark, nära Njuoravuolle-st...</td>\n",
       "      <td>4c415e40-1e21-11de-9e40-a0d6ecebb8bf</td>\n",
       "      <td>NaN</td>\n",
       "      <td>NaN</td>\n",
       "      <td>NaN</td>\n",
       "      <td>6.0</td>\n",
       "      <td>1950</td>\n",
       "      <td>NaN</td>\n",
       "      <td>Berit Eriksson &amp; John Eriksson</td>\n",
       "    </tr>\n",
       "    <tr>\n",
       "      <th>39589</th>\n",
       "      <td>Botryobasidiaceae</td>\n",
       "      <td>Botryobasidium</td>\n",
       "      <td>Botryobasidium subcoronatum (Höhn. &amp; Litsch.) ...</td>\n",
       "      <td>S om Muddus nationalpark, nära Njuoravuolle-st...</td>\n",
       "      <td>4c415e40-1e21-11de-9e40-a0d6ecebb8bf</td>\n",
       "      <td>NaN</td>\n",
       "      <td>NaN</td>\n",
       "      <td>NaN</td>\n",
       "      <td>6.0</td>\n",
       "      <td>1950</td>\n",
       "      <td>NaN</td>\n",
       "      <td>Berit Eriksson &amp; John Eriksson</td>\n",
       "    </tr>\n",
       "    <tr>\n",
       "      <th>39588</th>\n",
       "      <td>Botryobasidiaceae</td>\n",
       "      <td>Botryobasidium</td>\n",
       "      <td>Botryobasidium subcoronatum (Höhn. &amp; Litsch.) ...</td>\n",
       "      <td>S om Muddus nationalpark, nära Njuoravuolle-st...</td>\n",
       "      <td>4c415e40-1e21-11de-9e40-a0d6ecebb8bf</td>\n",
       "      <td>NaN</td>\n",
       "      <td>NaN</td>\n",
       "      <td>NaN</td>\n",
       "      <td>6.0</td>\n",
       "      <td>1950</td>\n",
       "      <td>NaN</td>\n",
       "      <td>Berit Eriksson &amp; John Eriksson</td>\n",
       "    </tr>\n",
       "  </tbody>\n",
       "</table>\n",
       "</div>"
      ],
      "text/plain": [
       "                  family           genus  \\\n",
       "39768    Cantharellaceae    Cantharellus   \n",
       "39591  Botryobasidiaceae  Botryobasidium   \n",
       "39590  Botryobasidiaceae  Botryobasidium   \n",
       "39589  Botryobasidiaceae  Botryobasidium   \n",
       "39588  Botryobasidiaceae  Botryobasidium   \n",
       "\n",
       "                                          scientificName  \\\n",
       "39768                  Cantharellus cinereus (Pers.) Fr.   \n",
       "39591  Botryobasidium subcoronatum (Höhn. & Litsch.) ...   \n",
       "39590  Botryobasidium subcoronatum (Höhn. & Litsch.) ...   \n",
       "39589  Botryobasidium subcoronatum (Höhn. & Litsch.) ...   \n",
       "39588  Botryobasidium subcoronatum (Höhn. & Litsch.) ...   \n",
       "\n",
       "                                                locality  \\\n",
       "39768                  No locality information available   \n",
       "39591  S om Muddus nationalpark, nära Njuoravuolle-st...   \n",
       "39590  S om Muddus nationalpark, nära Njuoravuolle-st...   \n",
       "39589  S om Muddus nationalpark, nära Njuoravuolle-st...   \n",
       "39588  S om Muddus nationalpark, nära Njuoravuolle-st...   \n",
       "\n",
       "                           publishingOrgKey  decimalLatitude  \\\n",
       "39768  883ee5d0-9177-423d-a636-0284e8a4de46         56.08603   \n",
       "39591  4c415e40-1e21-11de-9e40-a0d6ecebb8bf              NaN   \n",
       "39590  4c415e40-1e21-11de-9e40-a0d6ecebb8bf              NaN   \n",
       "39589  4c415e40-1e21-11de-9e40-a0d6ecebb8bf              NaN   \n",
       "39588  4c415e40-1e21-11de-9e40-a0d6ecebb8bf              NaN   \n",
       "\n",
       "       decimalLongitude  coordinateUncertaintyInMeters  month  year  \\\n",
       "39768          14.35018                            NaN   10.0  1950   \n",
       "39591               NaN                            NaN    6.0  1950   \n",
       "39590               NaN                            NaN    6.0  1950   \n",
       "39589               NaN                            NaN    6.0  1950   \n",
       "39588               NaN                            NaN    6.0  1950   \n",
       "\n",
       "      rightsHolder                      recordedBy  \n",
       "39768          NaN                  Olof Andersson  \n",
       "39591          NaN  Berit Eriksson & John Eriksson  \n",
       "39590          NaN  Berit Eriksson & John Eriksson  \n",
       "39589          NaN  Berit Eriksson & John Eriksson  \n",
       "39588          NaN  Berit Eriksson & John Eriksson  "
      ]
     },
     "execution_count": 7,
     "metadata": {},
     "output_type": "execute_result"
    }
   ],
   "source": [
    "fungi_clean.head(5)"
   ]
  },
  {
   "cell_type": "code",
   "execution_count": 8,
   "metadata": {},
   "outputs": [],
   "source": [
    "def DataCall(year_num):\n",
    "    data_rh = fungi_clean.loc[fungi_clean['year'] == year_num, 'recordedBy' ]\n",
    "    return data_rh.nunique(dropna=True)\n",
    "\n",
    "#http://pandas.pydata.org/pandas-docs/stable/reference/api/pandas.Series.nunique.html\n",
    "# def DataCall(year_num):\n",
    "#     data_rh = fungi_clean.loc[fungi_clean['year'] == year_num, 'rightsHolder']\n",
    "#     return data_rh.nunique(dropna=True)"
   ]
  },
  {
   "cell_type": "code",
   "execution_count": 9,
   "metadata": {},
   "outputs": [
    {
     "name": "stdout",
     "output_type": "stream",
     "text": [
      "[ 14.  23.   9.  18.  14.   4.  11.  13.  11.   9.  25.  11.  10.  10.\n",
      "   9.  20.  16.  18.  13.   9.  44.  20.  26.  25.  39.  21.  17.  45.\n",
      "  32.  45.  42.  33.  29.  25.  61.  46.  35.  31.  59.  33.  54.  48.\n",
      "  59.  92.  74.  77.  75.  95. 119.  69. 115. 123.  90.  99. 116. 117.\n",
      " 139. 136. 180. 169. 238. 289. 189. 198. 318. 333. 362. 610. 351.]\n"
     ]
    }
   ],
   "source": [
    "#totals the number of Recorded by per year.\n",
    "total_month = np.zeros(69)\n",
    "years = np.arange(1950,2019,1)\n",
    "totaler = []\n",
    "for i in years:\n",
    "    temp = DataCall(i)\n",
    "    totaler = np.append(totaler, temp)\n",
    "print(totaler)"
   ]
  },
  {
   "cell_type": "code",
   "execution_count": 24,
   "metadata": {},
   "outputs": [
    {
     "data": {
      "text/plain": [
       "<function matplotlib.pyplot.show(*args, **kw)>"
      ]
     },
     "execution_count": 24,
     "metadata": {},
     "output_type": "execute_result"
    },
    {
     "data": {
      "image/png": "[encoded data removed]",
      "text/plain": [
       "<Figure size 432x288 with 1 Axes>"
      ]
     },
     "metadata": {
      "needs_background": "light"
     },
     "output_type": "display_data"
    }
   ],
   "source": [
    "#Plots the total number of people recording data by years\n",
    "fig = plt.figure()\n",
    "ax = fig.add_subplot(111)\n",
    "ax.set(title = \"Number of People Recording Over the Years\", \n",
    "       xticks = np.arange(1950, 2016,10),\n",
    "       ylabel = \"# of People Recording\",\n",
    "       xlabel = \"Years\")\n",
    "ax.bar(years, totaler, width = .8, color= 'darkgreen')\n",
    "plt.savefig(\"people_recording.png\", dpi=300)\n",
    "plt.show"
   ]
  },
  {
   "cell_type": "markdown",
   "metadata": {},
   "source": [
    "### Normalized Data"
   ]
  },
  {
   "cell_type": "code",
   "execution_count": 11,
   "metadata": {},
   "outputs": [],
   "source": [
    "# normalizes the data from the year (input) and outputs what percent of observation occured in each of the months\n",
    "def DataCall2(year_range):\n",
    "    \n",
    "    mushrooms = []\n",
    "    \n",
    "    for i in year_range:\n",
    "        data_year = fungi_clean.loc[fungi_clean['year'] == i]\n",
    "        mushrooms = np.append(mushrooms,data_year.shape[0]) \n",
    "        \n",
    "       \n",
    "    return mushrooms"
   ]
  },
  {
   "cell_type": "code",
   "execution_count": 12,
   "metadata": {},
   "outputs": [],
   "source": [
    "# Create random data with numpy\n",
    "import numpy as np\n",
    "\n",
    "years = np.arange(1950,2019,1)\n",
    "annual_occurances = DataCall2(years)\n",
    "    \n",
    "totaler_3_the_reckoning = annual_occurances/totaler"
   ]
  },
  {
   "cell_type": "code",
   "execution_count": 13,
   "metadata": {},
   "outputs": [],
   "source": [
    "# removing the NaNs with 0's\n",
    "totaler_3_the_reckoning[9] = 0\n",
    "totaler_3_the_reckoning[19] = 0"
   ]
  },
  {
   "cell_type": "code",
   "execution_count": 14,
   "metadata": {},
   "outputs": [
    {
     "data": {
      "text/plain": [
       "<function matplotlib.pyplot.show(*args, **kw)>"
      ]
     },
     "execution_count": 14,
     "metadata": {},
     "output_type": "execute_result"
    },
    {
     "data": {
      "image/png": "[encoded data removed]",
      "text/plain": [
       "<Figure size 432x288 with 1 Axes>"
      ]
     },
     "metadata": {
      "needs_background": "light"
     },
     "output_type": "display_data"
    }
   ],
   "source": [
    "#plots normalized occurence by those recorded by\n",
    "fig2 = plt.figure()\n",
    "ax = fig2.add_subplot(111)\n",
    "ax.set(title = \"Number of people recording over the years\", \n",
    "       xticks = np.arange(1950, 2016,10),\n",
    "       ylabel = \"Normalized Yearly Occurance\",\n",
    "       xlabel = \"years\",\n",
    "       xlim = [1950,2015])\n",
    "ax.scatter(years, totaler_3_the_reckoning,)\n",
    "# plt.savefig(\"peak_occurence_3_14.png\", dpi=300)\n",
    "plt.show\n",
    "\n"
   ]
  },
  {
   "cell_type": "markdown",
   "metadata": {},
   "source": [
    "### Normalized occurences correlated to Temperture"
   ]
  },
  {
   "cell_type": "code",
   "execution_count": 15,
   "metadata": {},
   "outputs": [],
   "source": [
    "Column1 = years\n",
    "Column2= np.ones(len(Column1))\n",
    "A = np.column_stack((Column1, Column2))\n",
    "columnC = np.array(totaler_3_the_reckoning)\n",
    "C = np.transpose(columnC)\n",
    "\n",
    "ps = np.linalg.lstsq(A, C, rcond=None)[0]\n",
    "p1 = ps[0]\n",
    "p2 = ps[1]\n",
    "\n",
    "# Create predicted y values for a range of x values\n",
    "xhat = years\n",
    "yhat = p1*xhat + p2"
   ]
  },
  {
   "cell_type": "code",
   "execution_count": 16,
   "metadata": {},
   "outputs": [],
   "source": [
    "def squared_error(regression_line, data):\n",
    "    return sum((regression_line - data)*(regression_line - data))\n",
    "\n",
    "def r_squared(ys_orig,ys_line):\n",
    "    y_mean_line = [np.mean(ys_orig) for y in ys_orig]\n",
    "    squared_error_regr = squared_error(ys_orig, ys_line)\n",
    "    squared_error_y_mean = squared_error(ys_orig, y_mean_line)\n",
    "    return 1 - (squared_error_regr/squared_error_y_mean)"
   ]
  },
  {
   "cell_type": "code",
   "execution_count": 26,
   "metadata": {},
   "outputs": [
    {
     "name": "stdout",
     "output_type": "stream",
     "text": [
      "My r^2 value is: 0.10978940838577855\n"
     ]
    },
    {
     "data": {
      "text/plain": [
       "<function matplotlib.pyplot.show(*args, **kw)>"
      ]
     },
     "execution_count": 26,
     "metadata": {},
     "output_type": "execute_result"
    },
    {
     "data": {
      "image/png": "[encoded data removed]",
      "text/plain": [
       "<Figure size 432x288 with 1 Axes>"
      ]
     },
     "metadata": {
      "needs_background": "light"
     },
     "output_type": "display_data"
    }
   ],
   "source": [
    "\n",
    "print(\"My r^2 value is:\", r_squared(totaler_3_the_reckoning,yhat))\n",
    "fig2 = plt.figure()\n",
    "ax = fig2.add_subplot(111)\n",
    "ax.set(title = \"Occurence Data Normalized by Number of People Recording\", \n",
    "       xticks = np.arange(1950, 2016,10),\n",
    "       ylabel = \"Normalized Yearly Occurance\",\n",
    "       xlabel = \"Years\",\n",
    "       xlim = [1950,2015])\n",
    "ax.text(1990, 1, \"R-Squared: 0.26\")\n",
    "ax.scatter(years, totaler_3_the_reckoning, color = 'darkgreen')\n",
    "\n",
    "\n",
    "ax.plot(xhat, yhat, color=\"grey\")\n",
    "plt.savefig(\"normalized occurence.png\", dpi=300)\n",
    "plt.show\n",
    "\n"
   ]
  },
  {
   "cell_type": "code",
   "execution_count": null,
   "metadata": {},
   "outputs": [],
   "source": []
  }
 ],
 "metadata": {
  "kernelspec": {
   "display_name": "Python 3",
   "language": "python",
   "name": "python3"
  },
  "language_info": {
   "codemirror_mode": {
    "name": "ipython",
    "version": 3
   },
   "file_extension": ".py",
   "mimetype": "text/x-python",
   "name": "python",
   "nbconvert_exporter": "python",
   "pygments_lexer": "ipython3",
   "version": "3.7.1"
  }
 },
 "nbformat": 4,
 "nbformat_minor": 2
}
