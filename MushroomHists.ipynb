{
 "cells": [
  {
   "cell_type": "code",
   "execution_count": 2,
   "metadata": {},
   "outputs": [
    {
     "data": {
      "text/html": [
       "<script type=\"text/javascript\">window.PlotlyConfig = {MathJaxConfig: 'local'};</script><script type=\"text/javascript\">if (window.MathJax) {MathJax.Hub.Config({SVG: {font: \"STIX-Web\"}});}</script><script>requirejs.config({paths: { 'plotly': ['https://cdn.plot.ly/plotly-latest.min']},});if(!window._Plotly) {require(['plotly'],function(plotly) {window._Plotly=plotly;});}</script>"
      ],
      "text/vnd.plotly.v1+html": [
       "<script type=\"text/javascript\">window.PlotlyConfig = {MathJaxConfig: 'local'};</script><script type=\"text/javascript\">if (window.MathJax) {MathJax.Hub.Config({SVG: {font: \"STIX-Web\"}});}</script><script>requirejs.config({paths: { 'plotly': ['https://cdn.plot.ly/plotly-latest.min']},});if(!window._Plotly) {require(['plotly'],function(plotly) {window._Plotly=plotly;});}</script>"
      ]
     },
     "metadata": {},
     "output_type": "display_data"
    }
   ],
   "source": [
    "import numpy as np\n",
    "import pandas as pd\n",
    "import plotly as py\n",
    "import plotly.graph_objs as go\n",
    "import ipywidgets as widgets\n",
    "from scipy import special\n",
    "import matplotlib.pyplot as plt\n",
    "%matplotlib inline\n",
    "\n",
    "py.tools.set_credentials_file(username='toboa', api_key='ZdyIfyp9N9aHvcmAxnca')\n",
    "\n",
    "py.offline.init_notebook_mode(connected=True) "
   ]
  },
  {
   "cell_type": "code",
   "execution_count": 3,
   "metadata": {},
   "outputs": [
    {
     "name": "stderr",
     "output_type": "stream",
     "text": [
      "/Users/louis/anaconda3/lib/python3.7/site-packages/IPython/core/interactiveshell.py:3020: DtypeWarning:\n",
      "\n",
      "Columns (43) have mixed types. Specify dtype option on import or set low_memory=False.\n",
      "\n"
     ]
    },
    {
     "name": "stdout",
     "output_type": "stream",
     "text": [
      "This is summary of data from 1950 :\n",
      " count     7.000000\n",
      "mean      9.428571\n",
      "std       0.786796\n",
      "min       8.000000\n",
      "25%       9.000000\n",
      "50%      10.000000\n",
      "75%      10.000000\n",
      "max      10.000000\n",
      "Name: month, dtype: float64\n"
     ]
    },
    {
     "data": {
      "text/plain": [
       "<BarContainer object of 12 artists>"
      ]
     },
     "execution_count": 3,
     "metadata": {},
     "output_type": "execute_result"
    },
    {
     "data": {
      "image/png": "[encoded data removed]",
      "text/plain": [
       "<Figure size 432x288 with 1 Axes>"
      ]
     },
     "metadata": {
      "needs_background": "light"
     },
     "output_type": "display_data"
    }
   ],
   "source": [
    "#imports the fungi_data\n",
    "fungi_data = pd.read_csv(\"march6_mushroom.csv\",  delimiter = \"\\t\")\n",
    "\n",
    "fungi_data.to_excel('fungi_data_3_14.xlsx')\n",
    "\n",
    "\n",
    "## NOTE: Drops the columns of data that are not useful to us.\n",
    "fungi_clean = fungi_data.drop(['datasetKey', 'kingdom', 'phylum', 'order','class', 'taxonRank', \n",
    "                               'infraspecificEpithet', 'species','rightsHolder', 'license', 'mediaType', \n",
    "                               'issue','institutionCode', 'collectionCode','catalogNumber', 'recordNumber',\n",
    "                               'identifiedBy', 'dateIdentified', 'typeStatus', 'establishmentMeans', 'lastInterpreted',\n",
    "                               'basisOfRecord',  'elevationAccuracy', 'depth', 'depthAccuracy', 'coordinatePrecision',\n",
    "                               'elevation', 'countryCode', 'locality', 'eventDate', 'taxonKey','speciesKey', 'recordedBy',\n",
    "                               'publishingOrgKey', 'gbifID', 'occurrenceID', 'day'], \n",
    "                              axis = 1)\n",
    "\n",
    "fungi_clean = fungi_clean.sort_values('year')\n",
    "year_num = 1950\n",
    "# # the years with the most data are 1988 and 1993, with 233 and 244 data points reespectively\n",
    "data_year = fungi_clean.loc[fungi_clean['year'] == year_num, 'month']\n",
    "print(\"This is summary of data from\", year_num, \":\\n\", data_year.describe())\n",
    "\n",
    "def DataCall(year_num, month):\n",
    "    data_year = fungi_clean.loc[fungi_clean['year'] == year_num, 'month']\n",
    "    return data_year\n",
    "\n",
    "months = []\n",
    "month_names = ['jan','feb','mar','apr','may','jun','jul','aug','sep','oct','nov','dec']\n",
    "\n",
    "\n",
    "dataset = data_year\n",
    "for i in range(12): \n",
    "    temporary_data = (data_year == i+1).sum()\n",
    "    months = np.append(months, temporary_data)\n",
    "plt.bar(month_names, months, width = .8)\n",
    "\n",
    "\n",
    "\n",
    "\n",
    "\n",
    "# months = []\n",
    "# month_names = ['jan','feb','mar','apr','may','jun','jul','aug','sep','oct','nov','dec']\n",
    "# dataset = data1988\n",
    "# for i in range(12): \n",
    "#     temporary_data = (data1988 == i+1).sum()\n",
    "#     months = np.append(months, temporary_data)\n",
    "# plt.bar(month_names, months, width = .8)"
   ]
  },
  {
   "cell_type": "markdown",
   "metadata": {},
   "source": [
    "## Plotly!"
   ]
  },
  {
   "cell_type": "code",
   "execution_count": 74,
   "metadata": {},
   "outputs": [],
   "source": [
    "# normalizes the data from the year (input) and outputs what percent of observation occured in each of the months\n",
    "def DataCall(year_num):\n",
    "    month_sum = np.zeros(13)\n",
    "    \n",
    "    data_year = fungi_clean.loc[fungi_clean['year'] == year_num, 'month']\n",
    "    \n",
    "    for i in range(1,13):\n",
    "        month_sum[i-1] = sum(data_year == i)\n",
    "        total_sum = sum(month_sum)\n",
    "    normalized_data = (month_sum / total_sum *100)\n",
    "    return normalized_data, total_sum\n"
   ]
  },
  {
   "cell_type": "code",
   "execution_count": 75,
   "metadata": {},
   "outputs": [],
   "source": [
    "import plotly.plotly as py\n",
    "from plotly.grid_objs import Grid, Column\n",
    "from plotly.tools import FigureFactory as FF \n",
    "\n",
    "import pandas as pd\n",
    "import time\n"
   ]
  },
  {
   "cell_type": "code",
   "execution_count": 76,
   "metadata": {},
   "outputs": [
    {
     "ename": "NameError",
     "evalue": "name 'fig' is not defined",
     "output_type": "error",
     "traceback": [
      "\u001b[0;31m---------------------------------------------------------------------------\u001b[0m",
      "\u001b[0;31mNameError\u001b[0m                                 Traceback (most recent call last)",
      "\u001b[0;32m<ipython-input-76-064776ce434b>\u001b[0m in \u001b[0;36m<module>\u001b[0;34m\u001b[0m\n\u001b[1;32m     36\u001b[0m \u001b[0mwidgets\u001b[0m\u001b[0;34m.\u001b[0m\u001b[0minteractive\u001b[0m\u001b[0;34m(\u001b[0m\u001b[0mupdate_plot\u001b[0m\u001b[0;34m,\u001b[0m \u001b[0myears2\u001b[0m\u001b[0;34m=\u001b[0m\u001b[0myears_slide\u001b[0m\u001b[0;34m)\u001b[0m\u001b[0;34m\u001b[0m\u001b[0;34m\u001b[0m\u001b[0m\n\u001b[1;32m     37\u001b[0m \u001b[0;34m\u001b[0m\u001b[0m\n\u001b[0;32m---> 38\u001b[0;31m \u001b[0mpy\u001b[0m\u001b[0;34m.\u001b[0m\u001b[0micreate_animations\u001b[0m\u001b[0;34m(\u001b[0m\u001b[0mfig\u001b[0m\u001b[0;34m,\u001b[0m \u001b[0;34m'gapminder_example'\u001b[0m\u001b[0;34m+\u001b[0m\u001b[0mstr\u001b[0m\u001b[0;34m(\u001b[0m\u001b[0mtime\u001b[0m\u001b[0;34m.\u001b[0m\u001b[0mtime\u001b[0m\u001b[0;34m(\u001b[0m\u001b[0;34m)\u001b[0m\u001b[0;34m)\u001b[0m\u001b[0;34m)\u001b[0m\u001b[0;34m\u001b[0m\u001b[0;34m\u001b[0m\u001b[0m\n\u001b[0m",
      "\u001b[0;31mNameError\u001b[0m: name 'fig' is not defined"
     ]
    }
   ],
   "source": [
    "#The plotly graph with slider\n",
    "\n",
    "#this is axis and titles\n",
    "layout = go.Layout(\n",
    "    title='Mushroom occurance throughout the years',\n",
    "    yaxis=dict(\n",
    "        range=[0, 100]        \n",
    "    )\n",
    ")  \n",
    "    \n",
    "#### this is the function that is called to write the plot\n",
    "def update_plot(years2):\n",
    "    \"\"\"\n",
    "    This function updates the plot everytime a widget is changed\n",
    "    \"\"\"\n",
    "\n",
    "    month_sum, total = DataCall(years2)\n",
    "    trace1 = go.Bar(\n",
    "        x=['January', 'Febuary', 'March', 'April', 'May', 'June', 'July', 'August', 'October', 'November','December'],\n",
    "        y=[ month_sum[1],month_sum[2],month_sum[3],month_sum[4],month_sum[5],month_sum[6],\n",
    "          month_sum[7],month_sum[8],month_sum[9],month_sum[10],month_sum[11],month_sum[12]],\n",
    "        marker=dict(\n",
    "            color='rgb(158,202,225)',\n",
    "            line=dict(\n",
    "                color='rgb(8,48,107)',\n",
    "                width=1.5,\n",
    "            )\n",
    "        ),\n",
    "        opacity=0.6\n",
    "    )\n",
    "    data = [trace1]\n",
    "    fig = go.Figure(data=data, layout=layout)\n",
    "    py.offline.iplot(fig)\n",
    "    \n",
    "years_slide = widgets.IntSlider(min=1950, max=2018, value=1, description='years')\n",
    "widgets.interactive(update_plot, years2=years_slide)\n",
    "\n",
    "py.icreate_animations(fig, 'gapminder_example'+str(time.time()))"
   ]
  },
  {
   "cell_type": "code",
   "execution_count": 71,
   "metadata": {},
   "outputs": [
    {
     "data": {
      "application/vnd.jupyter.widget-view+json": {
       "model_id": "28e6cd8cb610429985cf805c54d80529",
       "version_major": 2,
       "version_minor": 0
      },
      "text/plain": [
       "interactive(children=(IntSlider(value=1950, description='years', max=2018, min=1950), Output()), _dom_classes=…"
      ]
     },
     "metadata": {},
     "output_type": "display_data"
    }
   ],
   "source": [
    "#The plotly graph with slider\n",
    "\n",
    "#this is axis and titles\n",
    "layout = go.Layout(\n",
    "    title='Mushroom occurance throughout the years',\n",
    "    yaxis=dict(\n",
    "        range=[0, 100]        \n",
    "    )\n",
    ")  \n",
    "    \n",
    "#### this is the function that is called to write the plot\n",
    "def update_plot(years2):\n",
    "    \"\"\"\n",
    "    This function updates the plot everytime a widget is changed\n",
    "    \"\"\"\n",
    "\n",
    "    month_sum, total = DataCall(years2)\n",
    "    trace1 = go.Bar(\n",
    "        x=['January', 'Febuary', 'March', 'April', 'May', 'June', 'July', 'August', 'October', 'November','December'],\n",
    "        y=[ month_sum[1],month_sum[2],month_sum[3],month_sum[4],month_sum[5],month_sum[6],\n",
    "          month_sum[7],month_sum[8],month_sum[9],month_sum[10],month_sum[11],month_sum[12]],\n",
    "        marker=dict(\n",
    "            color='rgb(158,202,225)',\n",
    "            line=dict(\n",
    "                color='rgb(8,48,107)',\n",
    "                width=1.5,\n",
    "            )\n",
    "        ),\n",
    "        opacity=0.6\n",
    "    )\n",
    "    data = [trace1]\n",
    "    fig = go.Figure(data=data, layout=layout)\n",
    "    plotly.offline.iplot(fig)\n",
    "    \n",
    "years_slide = widgets.IntSlider(min=1950, max=2018, value=1, description='years')\n",
    "widgets.interactive(update_plot, years2=years_slide)\n",
    "\n"
   ]
  },
  {
   "cell_type": "code",
   "execution_count": 64,
   "metadata": {},
   "outputs": [
    {
     "name": "stderr",
     "output_type": "stream",
     "text": [
      "/Users/louis/anaconda3/lib/python3.7/site-packages/ipykernel_launcher.py:10: RuntimeWarning:\n",
      "\n",
      "invalid value encountered in true_divide\n",
      "\n"
     ]
    },
    {
     "data": {
      "text/html": [
       "<iframe id=\"igraph\" scrolling=\"no\" style=\"border:none;\" seamless=\"seamless\" src=\"https://plot.ly/~toboa/120.embed\" height=\"525px\" width=\"100%\"></iframe>"
      ],
      "text/plain": [
       "<plotly.tools.PlotlyDisplay object>"
      ]
     },
     "execution_count": 64,
     "metadata": {},
     "output_type": "execute_result"
    }
   ],
   "source": [
    "import plotly.plotly as py\n",
    "import plotly.graph_objs as go\n",
    "\n",
    "# Create random data with numpy\n",
    "import numpy as np\n",
    "\n",
    "\n",
    "years = np.arange(1950,2019,1)\n",
    "totaler = []\n",
    "for i in years:\n",
    "    _, total = DataCall(i)\n",
    "    totaler = np.append(totaler, total)\n",
    "\n",
    "trace = go.Scatter(\n",
    "    x = years,\n",
    "    y = totaler,\n",
    "    mode = 'markers')\n",
    "data = [trace]\n",
    "\n",
    "# Plot and embed in ipython notebook!\n",
    "py.iplot(data, filename='basic-scatter')\n",
    "\n",
    "# or plot with: plot_url = py.plot(data, filename='basic-line')"
   ]
  },
  {
   "cell_type": "markdown",
   "metadata": {},
   "source": [
    "## Quadratic Regression\n",
    "\n",
    "methods adapted from https://towardsdatascience.com/polynomial-regression-bbe8b9d97491"
   ]
  },
  {
   "cell_type": "markdown",
   "metadata": {},
   "source": [
    "### Packages Required"
   ]
  },
  {
   "cell_type": "code",
   "execution_count": 77,
   "metadata": {},
   "outputs": [],
   "source": [
    "# using PolynomialFeatures, Linear Regression, and r2 from\n",
    "# scikit.\n",
    "from sklearn.preprocessing import PolynomialFeatures \n",
    "from sklearn.metrics import mean_squared_error, r2_score\n",
    "from sklearn.linear_model import LinearRegression"
   ]
  },
  {
   "cell_type": "markdown",
   "metadata": {},
   "source": [
    "### Functions "
   ]
  },
  {
   "cell_type": "code",
   "execution_count": 78,
   "metadata": {},
   "outputs": [],
   "source": [
    "# Randomizes data\n",
    "def data_shuffler(X, y):\n",
    "    n = X.shape[0]\n",
    "    order = np.random.permutation(n) \n",
    "    X = X[order]\n",
    "    y = y[order]\n",
    "    \n",
    "    return X, y"
   ]
  },
  {
   "cell_type": "code",
   "execution_count": 79,
   "metadata": {},
   "outputs": [],
   "source": [
    "# Tests the data 100 times and returns most accurate model.\n",
    "def quadratic_cross_val(results, years, test_frac, poly_degree, reps):\n",
    "    highest_r2 = 0\n",
    "    related_rmse = 0 \n",
    "    related_x_poly = []\n",
    "    best_y_poly_pred = 0\n",
    "    trainfrac = int(years.shape[0]*(1-test_frac))\n",
    "    \n",
    "    for i in range(reps):\n",
    "                     \n",
    "        X, y = data_shuffler(years, results)\n",
    "        train = X[0:trainfrac]\n",
    "        test = X[trainfrac:]\n",
    "        y_train = y[0:trainfrac]\n",
    "        y_test= y[trainfrac:]\n",
    "       \n",
    "        \n",
    "        X_train = train[:,np.newaxis]\n",
    "        y_train = y_train[:,np.newaxis]\n",
    "\n",
    "        features = PolynomialFeatures(degree = poly_degree)\n",
    "        x_poly = features.fit_transform(X_train)\n",
    "        \n",
    "        model = LinearRegression()\n",
    "        model.fit(x_poly, y_train)\n",
    "        current_y_poly_pred = model.predict(x_poly)\n",
    "        \n",
    "        rmse = np.sqrt(mean_squared_error(y_train,current_y_poly_pred))\n",
    "        r2 = r2_score(y_train,current_y_poly_pred)\n",
    "        \n",
    "        \n",
    "        if i == 0:\n",
    "            highest_r2 = r2\n",
    "            related_rmse = rmse\n",
    "            best_y_poly_pred = current_y_poly_pred\n",
    "        \n",
    "        if r2 > highest_r2:\n",
    "            highest_r2 = r2\n",
    "            related_rmse = rmse\n",
    "            related_x_poly = X_train\n",
    "            best_y_poly_pred = current_y_poly_pred\n",
    "            storage = pd.DataFrame(related_x_poly, columns = ['years'])\n",
    "            storage['predicted results'] = best_y_poly_pred\n",
    "            storage = storage.sort_values(by=['years'])\n",
    "        \n",
    "    return r2, rmse, storage\n",
    "        "
   ]
  },
  {
   "cell_type": "code",
   "execution_count": 80,
   "metadata": {},
   "outputs": [],
   "source": [
    "# Graphs the results, need to add labels\n",
    "def regression_plotter(dim1, dim2, xlim1, xlim2, X, y, x_poly, y_pred):\n",
    "    fig = plt.figure(figsize = (dim1, dim2))\n",
    "    ax = fig.add_subplot(111)\n",
    "    ax.set(xlim = [xlim1,xlim2])\n",
    "    ax.scatter(X,y)\n",
    "\n",
    "    ax.plot(x_poly, \n",
    "            y_pred, \n",
    "            color = 'red')\n",
    "\n",
    "    plt.show"
   ]
  },
  {
   "cell_type": "markdown",
   "metadata": {},
   "source": [
    "### Final Work"
   ]
  },
  {
   "cell_type": "code",
   "execution_count": 81,
   "metadata": {},
   "outputs": [
    {
     "name": "stdout",
     "output_type": "stream",
     "text": [
      "Our R-squared value is: 0.7668148847731333\n",
      "Our Root-mean Squared Error is: 187.28947906440487\n"
     ]
    },
    {
     "data": {
      "image/png": "[encoded data removed]",
      "text/plain": [
       "<Figure size 576x576 with 1 Axes>"
      ]
     },
     "metadata": {
      "needs_background": "light"
     },
     "output_type": "display_data"
    }
   ],
   "source": [
    "r2, rmse, storage = quadratic_cross_val(totaler, years, .2, 2, 10000)\n",
    "\n",
    "print(\"Our R-squared value is:\", r2)\n",
    "print(\"Our Root-mean Squared Error is:\", rmse)\n",
    "\n",
    "regression_plotter(8,8, 1940, 2020, years, totaler, \n",
    "                   storage.iloc[:,0], storage.iloc[:,1] )"
   ]
  },
  {
   "cell_type": "markdown",
   "metadata": {},
   "source": [
    "### Prior Work \n",
    "\n",
    "This is incorrect because I made a model using the whole dataset, so I did this and then I wrote a script to do the training on a set of the data, and then a script to output the results to a graph"
   ]
  },
  {
   "cell_type": "code",
   "execution_count": null,
   "metadata": {},
   "outputs": [],
   "source": [
    "pd_totaler = pd.DataFrame(totaler)\n",
    "pd_years = pd.DataFrame(years)\n",
    "\n",
    "pd_totaler['years'] =  pd_years\n",
    "\n",
    "X = pd_totaler.iloc[:,1].values\n",
    "y = pd_totaler.iloc[:,0].values"
   ]
  },
  {
   "cell_type": "code",
   "execution_count": null,
   "metadata": {},
   "outputs": [],
   "source": [
    "# #transforming data to have another axis\n",
    "\n",
    "X = X[:, np.newaxis]\n",
    "y = y[:, np.newaxis]"
   ]
  },
  {
   "cell_type": "code",
   "execution_count": null,
   "metadata": {},
   "outputs": [],
   "source": [
    "quadratic_features = PolynomialFeatures(degree = 2)\n",
    "x_quad = quadratic_features.fit_transform(X)"
   ]
  },
  {
   "cell_type": "code",
   "execution_count": null,
   "metadata": {},
   "outputs": [],
   "source": [
    "model = LinearRegression()\n",
    "model.fit(x_quad, y)\n",
    "\n",
    "y_quad_pred = model.predict(x_quad)\n",
    "\n",
    "rmse = np.sqrt(mean_squared_error(y,y_quad_pred))\n",
    "r2 = r2_score(y,y_quad_pred)\n",
    "print(rmse)\n",
    "print(r2)"
   ]
  },
  {
   "cell_type": "code",
   "execution_count": null,
   "metadata": {},
   "outputs": [],
   "source": [
    "fig = plt.figure(figsize = (8,8))\n",
    "ax = fig.add_subplot(111)\n",
    "ax.set(xlim = [1940,2020])\n",
    "ax.scatter(X,y)\n",
    "\n",
    "ax.plot(X, \n",
    "        y_quad_pred, \n",
    "        color = 'red')\n",
    "\n",
    "plt.show"
   ]
  },
  {
   "cell_type": "markdown",
   "metadata": {},
   "source": [
    "# Phong OG code \n",
    "#### (good shit!)"
   ]
  },
  {
   "cell_type": "code",
   "execution_count": null,
   "metadata": {},
   "outputs": [],
   "source": [
    "#imports the fungi_data\n",
    "fungi_data = pd.read_csv(\"march6_mushroom.csv\",  delimiter = \"\\t\")\n",
    "\n",
    "## NOTE: Drops the columns of data that are not useful to us.\n",
    "#left in  \n",
    "fungi_clean = fungi_data.drop(['datasetKey', 'kingdom', 'phylum', 'family','order','class', 'taxonRank', \n",
    "                               'infraspecificEpithet', 'species','rightsHolder', 'license', 'mediaType', \n",
    "                               'issue','institutionCode', 'collectionCode','catalogNumber', 'recordNumber',\n",
    "                               'identifiedBy', 'dateIdentified', 'typeStatus', 'establishmentMeans', 'lastInterpreted',\n",
    "                               'basisOfRecord',  'elevationAccuracy', 'depth', 'depthAccuracy', 'coordinatePrecision',\n",
    "                               'elevation', 'countryCode', 'locality', 'eventDate', 'taxonKey','speciesKey', 'recordedBy',\n",
    "                               'publishingOrgKey', 'gbifID', 'occurrenceID', 'day'], \n",
    "                              axis = 1)\n",
    "\n",
    "fungi_clean = fungi_clean.sort_values('year')\n",
    "\n",
    "# the years with the most data are 1988 and 1993, with 233 and 244 data points reespectively\n",
    "data1988 = fungi_clean.loc[fungi_clean['year'] == 1950, 'month']\n",
    "data1993 = fungi_clean.loc[fungi_clean['year'] == 1993, 'month']\n",
    "\n",
    "print(\"This is summary of data from 1988:\\n\", data1988.describe())\n",
    "\n",
    "print(\"This is summary of data from 1993:\\n\", data1993.describe())\n",
    "\n",
    "\n",
    "#plots these years\n",
    "fig = plt.figure(figsize=(15,15))\n",
    "ax1 = fig.add_subplot(221)\n",
    "ax2 = fig.add_subplot(222)\n",
    "\n",
    "ax1.hist(data1988,\n",
    "         bins = 12,\n",
    "        alpha = 0.5)\n",
    "\n",
    "ax1.set(title = 'Mushroom Growth Reported Over 1988', \n",
    "        xlabel = 'month', \n",
    "        ylabel = 'number of mushrooms reported',\n",
    "        xlim = [1,12],\n",
    "        ylim = [0, 140]) \n",
    "\n",
    "ax2.hist(data1993,\n",
    "         bins= 12,\n",
    "        alpha = 0.5)\n",
    "\n",
    "ax2.set(title = 'Mushroom Growth Reported Over 1993', \n",
    "        xlabel = 'month', \n",
    "        ylabel = 'number of mushrooms reported',\n",
    "        xlim=[1,12],\n",
    "        ylim = [0, 140]) \n",
    "\n",
    "\n",
    "\n",
    "plt.show"
   ]
  },
  {
   "cell_type": "code",
   "execution_count": null,
   "metadata": {},
   "outputs": [],
   "source": [
    "years = np.arange(1950,2019)\n",
    "store = []\n",
    "for x in years:\n",
    "    temp = fungi_clean.loc[fungi_clean['year'] == x]\n",
    "    number_of_values = temp.shape[0]\n",
    "    store = np.append(store,number_of_values)\n",
    "# print(store)\n",
    "# print(years) \n",
    "\n",
    "    "
   ]
  },
  {
   "cell_type": "code",
   "execution_count": null,
   "metadata": {},
   "outputs": [],
   "source": []
  },
  {
   "cell_type": "code",
   "execution_count": null,
   "metadata": {},
   "outputs": [],
   "source": [
    "import plotly.plotly as py\n",
    "import numpy as np\n",
    "\n",
    "data = [dict(\n",
    "        visible = False,\n",
    "        line=dict(color='#00CED1', width=6),\n",
    "        name = '𝜈 = '+str(step),\n",
    "        x = np.arange(0,10,0.01),\n",
    "        y = np.sin(step*np.arange(0,10,0.01))) for step in np.arange(0,5,0.1)]\n",
    "data[10]['visible'] = True\n",
    "\n",
    "py.iplot(data, filename='Single Sine Wave')"
   ]
  },
  {
   "cell_type": "code",
   "execution_count": null,
   "metadata": {},
   "outputs": [],
   "source": [
    "\n",
    "steps = []\n",
    "for i in range(len(data)):\n",
    "    step = dict(\n",
    "        method = 'restyle',  \n",
    "        args = ['visible', [False] * len(data)],\n",
    "\n",
    "    )\n",
    "    step['args'][1][i] = True # Toggle i'th trace to \"visible\"\n",
    "    steps.append(step)\n",
    "\n",
    "sliders = [dict(\n",
    "    active = 10,\n",
    "    currentvalue = {\"prefix\": \"Years: \"},\n",
    "    pad = {\"t\": 50},\n",
    "    steps = steps\n",
    "#     label = {\"hi\"}\n",
    ")]\n",
    "\n",
    "layout = dict(sliders=sliders)\n",
    "\n",
    "fig = dict(data=data, layout=layout)\n",
    "\n",
    "py.iplot(fig, filename='Sine Wave Slider')"
   ]
  },
  {
   "cell_type": "code",
   "execution_count": null,
   "metadata": {},
   "outputs": [],
   "source": []
  }
 ],
 "metadata": {
  "kernelspec": {
   "display_name": "Python 3",
   "language": "python",
   "name": "python3"
  },
  "language_info": {
   "codemirror_mode": {
    "name": "ipython",
    "version": 3
   },
   "file_extension": ".py",
   "mimetype": "text/x-python",
   "name": "python",
   "nbconvert_exporter": "python",
   "pygments_lexer": "ipython3",
   "version": "3.7.1"
  }
 },
 "nbformat": 4,
 "nbformat_minor": 2
}
