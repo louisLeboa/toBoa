{
 "cells": [
  {
   "cell_type": "code",
   "execution_count": 21,
   "metadata": {},
   "outputs": [
    {
     "data": {
      "text/html": [
       "<script type=\"text/javascript\">window.PlotlyConfig = {MathJaxConfig: 'local'};</script><script type=\"text/javascript\">if (window.MathJax) {MathJax.Hub.Config({SVG: {font: \"STIX-Web\"}});}</script><script>requirejs.config({paths: { 'plotly': ['https://cdn.plot.ly/plotly-latest.min']},});if(!window._Plotly) {require(['plotly'],function(plotly) {window._Plotly=plotly;});}</script>"
      ],
      "text/vnd.plotly.v1+html": [
       "<script type=\"text/javascript\">window.PlotlyConfig = {MathJaxConfig: 'local'};</script><script type=\"text/javascript\">if (window.MathJax) {MathJax.Hub.Config({SVG: {font: \"STIX-Web\"}});}</script><script>requirejs.config({paths: { 'plotly': ['https://cdn.plot.ly/plotly-latest.min']},});if(!window._Plotly) {require(['plotly'],function(plotly) {window._Plotly=plotly;});}</script>"
      ]
     },
     "metadata": {},
     "output_type": "display_data"
    }
   ],
   "source": [
    "import numpy as np\n",
    "import pandas as pd\n",
    "import plotly as plotly\n",
    "import plotly.graph_objs as go\n",
    "import ipywidgets as widgets\n",
    "from scipy import special\n",
    "import matplotlib.pyplot as plt\n",
    "import plotly.plotly as py\n",
    "from plotly.grid_objs import Grid, Column\n",
    "from plotly.tools import FigureFactory as FF \n",
    "\n",
    "import pandas as pd\n",
    "import time\n",
    "\n",
    "%matplotlib inline\n",
    "\n",
    "plotly.tools.set_credentials_file(username='toboa', api_key='ZdyIfyp9N9aHvcmAxnca')\n",
    "\n",
    "plotly.offline.init_notebook_mode(connected=True) "
   ]
  },
  {
   "cell_type": "code",
   "execution_count": 32,
   "metadata": {},
   "outputs": [
    {
     "name": "stdout",
     "output_type": "stream",
     "text": [
      "This is summary of data from 1950 :\n",
      " count     7.000000\n",
      "mean      9.428571\n",
      "std       0.786796\n",
      "min       8.000000\n",
      "25%       9.000000\n",
      "50%      10.000000\n",
      "75%      10.000000\n",
      "max      10.000000\n",
      "Name: month, dtype: float64\n"
     ]
    }
   ],
   "source": [
    "#imports the fungi_data\n",
    "fungi_data = pd.read_csv(\"march6_mushroom.csv\",  delimiter = \"\\t\")\n",
    "\n",
    "## NOTE: Drops the columns of data that are not useful to us.\n",
    "fungi_clean = fungi_data.drop(['datasetKey', 'kingdom', 'phylum', 'order','class', 'taxonRank', \n",
    "                               'infraspecificEpithet', 'species','rightsHolder', 'license', 'mediaType', \n",
    "                               'issue','institutionCode', 'collectionCode','catalogNumber', 'recordNumber',\n",
    "                               'identifiedBy', 'dateIdentified', 'typeStatus', 'establishmentMeans', 'lastInterpreted',\n",
    "                               'basisOfRecord',  'elevationAccuracy', 'depth', 'depthAccuracy', 'coordinatePrecision',\n",
    "                               'elevation', 'countryCode', 'locality', 'eventDate', 'taxonKey','speciesKey', 'recordedBy',\n",
    "                               'publishingOrgKey', 'gbifID', 'occurrenceID', 'day'], \n",
    "                              axis = 1)\n",
    "\n",
    "fungi_clean = fungi_clean.sort_values('year')\n",
    "year_num = 1950\n",
    "# # the years with the most data are 1988 and 1993, with 233 and 244 data points reespectively\n",
    "data_year = fungi_clean.loc[fungi_clean['year'] == year_num, 'month']\n",
    "print(\"This is summary of data from\", year_num, \":\\n\", data_year.describe())\n",
    "\n",
    "def DataCall(year_num):\n",
    "    month_sum = np.zeros(13)\n",
    "    \n",
    "    data_year = fungi_clean.loc[fungi_clean['year'] == year_num, 'month']\n",
    "    \n",
    "    for i in range(1,13):\n",
    "        month_sum[i-1] = sum(data_year == i)\n",
    "        total_sum = sum(month_sum)\n",
    "    normalized_data = (month_sum / total_sum *100)\n",
    "    return normalized_data, total_sum"
   ]
  },
  {
   "cell_type": "code",
   "execution_count": 36,
   "metadata": {},
   "outputs": [
    {
     "data": {
      "text/plain": [
       "(array([ 0.        ,  0.        ,  0.        ,  0.        ,  0.        ,\n",
       "         0.        ,  0.        , 14.28571429, 14.28571429, 71.42857143,\n",
       "         0.        ,  0.        ,  0.        ]), 7.0)"
      ]
     },
     "execution_count": 36,
     "metadata": {},
     "output_type": "execute_result"
    }
   ],
   "source": [
    "DataCall(1952)"
   ]
  },
  {
   "cell_type": "code",
   "execution_count": 37,
   "metadata": {},
   "outputs": [
    {
     "name": "stdout",
     "output_type": "stream",
     "text": [
      "[ 0.  0.  0.  0.  1.  0. 15. 45.  5.  0.  0.  0.]\n"
     ]
    },
    {
     "name": "stderr",
     "output_type": "stream",
     "text": [
      "/Users/louis/anaconda3/lib/python3.7/site-packages/ipykernel_launcher.py:28: RuntimeWarning:\n",
      "\n",
      "invalid value encountered in true_divide\n",
      "\n"
     ]
    }
   ],
   "source": [
    "# count max occurence months\n",
    "import numpy as np\n",
    "total_month = np.zeros(13)\n",
    "for j in np.arange(1950,2018,1):\n",
    "    month_sum,_ = DataCall(j)\n",
    "    temporary_high = 0\n",
    "    temporary_month = 0\n",
    "    for i in range(1,13):\n",
    "        if month_sum[i] > temporary_high:\n",
    "            temporary_month = i\n",
    "            temporary_high = month_sum[i]\n",
    "    total_month[temporary_month] += 1\n",
    "\n",
    "print(total_month[1:13])\n",
    "\n",
    "\n"
   ]
  },
  {
   "cell_type": "code",
   "execution_count": null,
   "metadata": {},
   "outputs": [],
   "source": [
    "month_names = ['jan','feb','mar','apr','may','jun','jul','aug','sep','oct','nov','dec']\n",
    "fig = plt.figure()\n",
    "ax = fig.add_subplot(111)\n",
    "ax.set(title = \"Sweden's Peak Monthly Occurence of Craterellus \\n (1950-2018)\", \n",
    "       ylabel = \"# of Peak Occurence Months\",\n",
    "       xlabel = \"Month\")\n",
    "ax.bar(month_names, total_month[1:13], width = .8, color= 'darkgreen')\n",
    "plt.savefig(\"peak_occurence_3_14.png\", dpi=300)\n",
    "plt.show"
   ]
  },
  {
   "cell_type": "code",
   "execution_count": null,
   "metadata": {},
   "outputs": [],
   "source": []
  }
 ],
 "metadata": {
  "kernelspec": {
   "display_name": "Python 3",
   "language": "python",
   "name": "python3"
  },
  "language_info": {
   "codemirror_mode": {
    "name": "ipython",
    "version": 3
   },
   "file_extension": ".py",
   "mimetype": "text/x-python",
   "name": "python",
   "nbconvert_exporter": "python",
   "pygments_lexer": "ipython3",
   "version": "3.7.1"
  }
 },
 "nbformat": 4,
 "nbformat_minor": 2
}
