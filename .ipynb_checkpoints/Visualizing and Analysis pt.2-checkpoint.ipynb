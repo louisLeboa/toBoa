{
 "cells": [
  {
   "cell_type": "code",
   "execution_count": 2,
   "metadata": {},
   "outputs": [],
   "source": [
    "import numpy as np\n",
    "import pandas as pd\n",
    "import matplotlib.pyplot as plt\n",
    "%matplotlib inline\n"
   ]
  },
  {
   "cell_type": "code",
   "execution_count": 106,
   "metadata": {},
   "outputs": [
    {
     "name": "stdout",
     "output_type": "stream",
     "text": [
      "295\n"
     ]
    },
    {
     "name": "stderr",
     "output_type": "stream",
     "text": [
      "/Users/louis/anaconda3/lib/python3.7/site-packages/IPython/core/interactiveshell.py:3020: DtypeWarning: Columns (43) have mixed types. Specify dtype option on import or set low_memory=False.\n",
      "  interactivity=interactivity, compiler=compiler, result=result)\n"
     ]
    }
   ],
   "source": [
    "#imports the fungi_data\n",
    "fungi_data = pd.read_csv(\"march6_mushroom.csv\",  delimiter = \"\\t\")\n",
    "\n",
    "## NOTE: Drops the columns of data that are not useful to us.\n",
    "fungi_clean = fungi_data.drop(['datasetKey', 'kingdom', 'phylum', 'order','class', 'taxonRank', \n",
    "                               'infraspecificEpithet', 'species', 'license', 'mediaType', \n",
    "                               'issue','institutionCode', 'collectionCode','catalogNumber', 'recordNumber',\n",
    "                               'identifiedBy', 'dateIdentified', 'typeStatus', 'establishmentMeans', 'lastInterpreted',\n",
    "                               'basisOfRecord',  'elevationAccuracy', 'depth', 'depthAccuracy', 'coordinatePrecision',\n",
    "                               'elevation', 'countryCode',  'eventDate', 'taxonKey','speciesKey',\n",
    "                               'gbifID', 'occurrenceID', 'day'], \n",
    "                              axis = 1)\n",
    "\n",
    "fungi_clean = fungi_clean.sort_values('year')\n",
    "year_num = 2018\n",
    "data_rh = fungi_clean.loc[fungi_clean['year'] == year_num, 'recordedBy' ]\n",
    "print(data_rh.nunique(dropna=True))\n",
    "\n",
    "\n"
   ]
  },
  {
   "cell_type": "code",
   "execution_count": 110,
   "metadata": {},
   "outputs": [],
   "source": [
    "def DataCall(year_num):\n",
    "    data_rh = fungi_clean.loc[fungi_clean['year'] == year_num, 'recordedBy' ]\n",
    "    return data_rh.nunique(dropna=True)\n",
    "\n",
    "#goofing around trying to find \n",
    "# data_rh = fungi_clean.loc[fungi_clean['year'], 'locality' ]\n",
    "# print(data_rh.drop_duplicates().value_counts())\n",
    "\n",
    "\n",
    "#http://pandas.pydata.org/pandas-docs/stable/reference/api/pandas.Series.nunique.html\n",
    "# def DataCall(year_num):\n",
    "#     data_rh = fungi_clean.loc[fungi_clean['year'] == year_num, 'rightsHolder']\n",
    "#     return data_rh.nunique(dropna=True)"
   ]
  },
  {
   "cell_type": "code",
   "execution_count": 111,
   "metadata": {},
   "outputs": [
    {
     "name": "stdout",
     "output_type": "stream",
     "text": [
      "[  3.   4.   4.   7.   6.   1.   2.   8.   4.   0.  11.   4.   4.   9.\n",
      "   5.  10.   6.   6.   4.   0.  13.   5.   8.   3.  15.   4.   2.  16.\n",
      "  17.  26.  22.  15.  14.   8.  41.  36.  21.  17.  47.  23.  33.  35.\n",
      "  46.  70.  47.  49.  55.  71.  90.  48.  85.  92.  68.  71.  90. 102.\n",
      " 103. 107. 138. 132. 185. 235. 153. 162. 253. 260. 288. 501. 295.]\n"
     ]
    }
   ],
   "source": [
    "total_month = np.zeros(69)\n",
    "years = np.arange(1950,2019,1)\n",
    "totaler = []\n",
    "for i in years:\n",
    "    temp = DataCall(i)\n",
    "    totaler = np.append(totaler, temp)\n",
    "print(totaler)"
   ]
  },
  {
   "cell_type": "code",
   "execution_count": 126,
   "metadata": {},
   "outputs": [
    {
     "data": {
      "text/plain": [
       "<function matplotlib.pyplot.show(*args, **kw)>"
      ]
     },
     "execution_count": 126,
     "metadata": {},
     "output_type": "execute_result"
    },
    {
     "data": {
      "image/png": "[encoded data removed]",
      "text/plain": [
       "<Figure size 432x288 with 1 Axes>"
      ]
     },
     "metadata": {
      "needs_background": "light"
     },
     "output_type": "display_data"
    }
   ],
   "source": [
    "fig = plt.figure()\n",
    "ax = fig.add_subplot(111)\n",
    "ax.set(title = \"Number of people recording over the years\", \n",
    "       xticks = np.arange(1950, 2016,10),\n",
    "       ylabel = \"# of people cantrelles recorded by\",\n",
    "       xlabel = \"years\")\n",
    "ax.bar(years, totaler, width = .8, color= 'darkgreen')\n",
    "# plt.savefig(\"peak_occurence_3_14.png\", dpi=300)\n",
    "plt.show"
   ]
  },
  {
   "cell_type": "code",
   "execution_count": null,
   "metadata": {},
   "outputs": [],
   "source": []
  },
  {
   "cell_type": "code",
   "execution_count": null,
   "metadata": {},
   "outputs": [],
   "source": []
  }
 ],
 "metadata": {
  "kernelspec": {
   "display_name": "Python 3",
   "language": "python",
   "name": "python3"
  },
  "language_info": {
   "codemirror_mode": {
    "name": "ipython",
    "version": 3
   },
   "file_extension": ".py",
   "mimetype": "text/x-python",
   "name": "python",
   "nbconvert_exporter": "python",
   "pygments_lexer": "ipython3",
   "version": "3.7.1"
  }
 },
 "nbformat": 4,
 "nbformat_minor": 2
}
