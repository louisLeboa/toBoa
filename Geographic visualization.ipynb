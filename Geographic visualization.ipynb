{
 "cells": [
  {
   "cell_type": "code",
   "execution_count": 1,
   "metadata": {},
   "outputs": [
    {
     "data": {
      "text/html": [
       "<script type=\"text/javascript\">window.PlotlyConfig = {MathJaxConfig: 'local'};</script><script type=\"text/javascript\">if (window.MathJax) {MathJax.Hub.Config({SVG: {font: \"STIX-Web\"}});}</script><script>requirejs.config({paths: { 'plotly': ['https://cdn.plot.ly/plotly-latest.min']},});if(!window._Plotly) {require(['plotly'],function(plotly) {window._Plotly=plotly;});}</script>"
      ],
      "text/vnd.plotly.v1+html": [
       "<script type=\"text/javascript\">window.PlotlyConfig = {MathJaxConfig: 'local'};</script><script type=\"text/javascript\">if (window.MathJax) {MathJax.Hub.Config({SVG: {font: \"STIX-Web\"}});}</script><script>requirejs.config({paths: { 'plotly': ['https://cdn.plot.ly/plotly-latest.min']},});if(!window._Plotly) {require(['plotly'],function(plotly) {window._Plotly=plotly;});}</script>"
      ]
     },
     "metadata": {},
     "output_type": "display_data"
    }
   ],
   "source": [
    "import numpy as np\n",
    "import pandas as pd\n",
    "import plotly as py\n",
    "import plotly.graph_objs as go\n",
    "import ipywidgets as widgets\n",
    "from scipy import special\n",
    "import matplotlib.pyplot as plt\n",
    "%matplotlib inline\n",
    "\n",
    "py.tools.set_credentials_file(username='toboa', api_key='ZdyIfyp9N9aHvcmAxnca')\n",
    "\n",
    "py.offline.init_notebook_mode(connected=True) "
   ]
  },
  {
   "cell_type": "code",
   "execution_count": 29,
   "metadata": {},
   "outputs": [
    {
     "data": {
      "text/html": [
       "<script type=\"text/javascript\">window.PlotlyConfig = {MathJaxConfig: 'local'};</script><script type=\"text/javascript\">if (window.MathJax) {MathJax.Hub.Config({SVG: {font: \"STIX-Web\"}});}</script><script>requirejs.config({paths: { 'plotly': ['https://cdn.plot.ly/plotly-latest.min']},});if(!window._Plotly) {require(['plotly'],function(plotly) {window._Plotly=plotly;});}</script>"
      ],
      "text/vnd.plotly.v1+html": [
       "<script type=\"text/javascript\">window.PlotlyConfig = {MathJaxConfig: 'local'};</script><script type=\"text/javascript\">if (window.MathJax) {MathJax.Hub.Config({SVG: {font: \"STIX-Web\"}});}</script><script>requirejs.config({paths: { 'plotly': ['https://cdn.plot.ly/plotly-latest.min']},});if(!window._Plotly) {require(['plotly'],function(plotly) {window._Plotly=plotly;});}</script>"
      ]
     },
     "metadata": {},
     "output_type": "display_data"
    },
    {
     "name": "stderr",
     "output_type": "stream",
     "text": [
      "/Users/louis/anaconda3/lib/python3.7/site-packages/IPython/core/interactiveshell.py:3020: DtypeWarning:\n",
      "\n",
      "Columns (43) have mixed types. Specify dtype option on import or set low_memory=False.\n",
      "\n"
     ]
    }
   ],
   "source": [
    "import numpy as np\n",
    "import pandas as pd\n",
    "import plotly as py\n",
    "import plotly.graph_objs as go\n",
    "import ipywidgets as widgets\n",
    "from scipy import special\n",
    "import matplotlib.pyplot as plt\n",
    "%matplotlib inline\n",
    "\n",
    "py.tools.set_credentials_file(username='toboa', api_key='ZdyIfyp9N9aHvcmAxnca')\n",
    "\n",
    "py.offline.init_notebook_mode(connected=True) \n",
    "\n",
    "\n",
    "\n",
    "#imports the fungi_data\n",
    "fungi_data = pd.read_csv(\"march6_mushroom.csv\",  delimiter = \"\\t\")\n",
    "\n",
    "## NOTE: Drops the columns of data that are not useful to us.\n",
    "fungi_clean = fungi_data.drop(['datasetKey', 'kingdom', 'phylum', 'order','class', 'taxonRank', \n",
    "                               'infraspecificEpithet', 'species','rightsHolder', 'license', 'mediaType', \n",
    "                               'issue','institutionCode', 'collectionCode','catalogNumber', 'recordNumber',\n",
    "                               'identifiedBy', 'dateIdentified', 'typeStatus', 'establishmentMeans', 'lastInterpreted',\n",
    "                               'basisOfRecord',  'elevationAccuracy', 'depth', 'depthAccuracy', 'coordinatePrecision',\n",
    "                               'elevation', 'countryCode', 'locality', 'eventDate', 'taxonKey','speciesKey', 'recordedBy',\n",
    "                               'publishingOrgKey', 'gbifID', 'occurrenceID', 'day'], \n",
    "                              axis = 1)\n",
    "fungi_clean = fungi_clean.sort_values('year')"
   ]
  },
  {
   "cell_type": "code",
   "execution_count": 37,
   "metadata": {},
   "outputs": [
    {
     "data": {
      "image/png": "[encoded data removed]",
      "text/plain": [
       "<Figure size 432x288 with 1 Axes>"
      ]
     },
     "metadata": {},
     "output_type": "display_data"
    }
   ],
   "source": [
    "#sources : https://stackoverflow.com/questions/43757820/how-to-add-a-variable-to-python-plt-title\n",
    "#https://stackoverflow.com/questions/44488167/plotting-lat-long-points-using-basemap\n",
    "#https://anaconda.org/anaconda/basemap\n",
    "#\n",
    "\n",
    "for j in np.arange(2018,2019,1):\n",
    "# display(fungi_clean.head())\n",
    "    year_num = j\n",
    "    # # the years with the most data are 1988 and 1993, with 233 and 244 data points reespectively\n",
    "    data_year = fungi_clean.loc[fungi_clean['year'] == year_num,['decimalLatitude','decimalLongitude','month']]\n",
    "    data_year = data_year.dropna(axis=0)\n",
    "    #check to make sure there is no nulls.\n",
    "    # print(data_year.isnull().sum())\n",
    "    lat = data_year['decimalLatitude']\n",
    "    lon = data_year['decimalLongitude']\n",
    "    month = data_year['month']\n",
    "    # read in data to use for plotted points\n",
    "    lat = data_year['decimalLatitude'].values\n",
    "    lon = data_year['decimalLongitude'].values\n",
    "\n",
    "    # determine range to print based on min, max lat and lon of the data\n",
    "    margin = 2 # buffer to add to the range\n",
    "    lat_min = 53.548556999999995\n",
    "\n",
    "    lat_max = 67.582554\n",
    "\n",
    "    lon_min = 9.218907000000002\n",
    "\n",
    "    lon_max = 23.578836\n",
    "\n",
    "    # create map using BASEMAP\n",
    "    m = Basemap(llcrnrlon=lon_min,\n",
    "                llcrnrlat=lat_min,\n",
    "                urcrnrlon=lon_max,\n",
    "                urcrnrlat=lat_max,\n",
    "                lat_0=(lat_max - lat_min)/2,\n",
    "                lon_0=(lon_max-lon_min)/2,\n",
    "                projection='merc',\n",
    "                resolution = 'h',\n",
    "                area_thresh=10000.,\n",
    "                )\n",
    "    m.drawcoastlines()\n",
    "    m.drawcountries()\n",
    "\n",
    "    m.drawmapboundary(fill_color='white')\n",
    "    m.fillcontinents(color = 'whitesmoke',lake_color='azure')\n",
    "    # convert lat and lon to map projection coordinates\n",
    "    lons, lats = m(lon, lat)\n",
    "    # plot points as red dots\n",
    "    m.scatter(lons, lats, marker = 'o', color='g', zorder=5, alpha = .2,)\n",
    "    plt.title(\"Mushroom Occurences in %i\" % year_num)\n",
    "    plt.savefig('%s.png' % (str(j)), dpi=300)\n",
    "    plt.show()"
   ]
  },
  {
   "cell_type": "code",
   "execution_count": null,
   "metadata": {},
   "outputs": [],
   "source": []
  }
 ],
 "metadata": {
  "kernelspec": {
   "display_name": "Python 3",
   "language": "python",
   "name": "python3"
  },
  "language_info": {
   "codemirror_mode": {
    "name": "ipython",
    "version": 3
   },
   "file_extension": ".py",
   "mimetype": "text/x-python",
   "name": "python",
   "nbconvert_exporter": "python",
   "pygments_lexer": "ipython3",
   "version": "3.7.1"
  }
 },
 "nbformat": 4,
 "nbformat_minor": 2
}
