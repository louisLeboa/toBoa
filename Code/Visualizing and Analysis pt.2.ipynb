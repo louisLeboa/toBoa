{
 "cells": [
  {
   "cell_type": "markdown",
   "metadata": {},
   "source": [
    "# Attempt to Normalize Occurence Data! Fig 3\n",
    "We began by finding the best other column to normalize the data on in our case that was 'recordedby' column. With te occurence data normlaized we tried a least means squares regression to provide us with statistics to confirm or bust the idea that temperture has a orrelation to mushroom occurence.\n"
   ]
  },
  {
   "cell_type": "code",
   "execution_count": 2,
   "metadata": {},
   "outputs": [],
   "source": [
    "import numpy as np\n",
    "import pandas as pd\n",
    "import matplotlib.pyplot as plt\n",
    "%matplotlib inline\n"
   ]
  },
  {
   "cell_type": "code",
   "execution_count": 3,
   "metadata": {},
   "outputs": [
    {
     "name": "stdout",
     "output_type": "stream",
     "text": [
      "295\n"
     ]
    },
    {
     "name": "stderr",
     "output_type": "stream",
     "text": [
      "/Users/louis/anaconda3/lib/python3.7/site-packages/IPython/core/interactiveshell.py:3020: DtypeWarning: Columns (43) have mixed types. Specify dtype option on import or set low_memory=False.\n",
      "  interactivity=interactivity, compiler=compiler, result=result)\n"
     ]
    }
   ],
   "source": [
    "#imports the fungi_data\n",
    "fungi_data = pd.read_csv(\"march6_mushroom.csv\",  delimiter = \"\\t\")\n",
    "\n",
    "## NOTE: Drops the columns of data that are not useful to us.\n",
    "fungi_clean = fungi_data.drop(['datasetKey', 'kingdom', 'phylum', 'order','class', 'taxonRank', \n",
    "                               'infraspecificEpithet', 'species', 'license', 'mediaType', \n",
    "                               'issue','institutionCode', 'collectionCode','catalogNumber', 'recordNumber',\n",
    "                               'identifiedBy', 'dateIdentified', 'typeStatus', 'establishmentMeans', 'lastInterpreted',\n",
    "                               'basisOfRecord',  'elevationAccuracy', 'depth', 'depthAccuracy', 'coordinatePrecision',\n",
    "                               'elevation', 'countryCode',  'eventDate', 'taxonKey','speciesKey',\n",
    "                               'gbifID', 'occurrenceID', 'day'], \n",
    "                              axis = 1)\n",
    "\n",
    "fungi_clean = fungi_clean.sort_values('year')\n",
    "year_num = 2018\n",
    "data_rh = fungi_clean.loc[fungi_clean['year'] == year_num, 'recordedBy' ]\n",
    "print(data_rh.nunique(dropna=True))\n",
    "\n",
    "\n"
   ]
  },
  {
   "cell_type": "code",
   "execution_count": 4,
   "metadata": {},
   "outputs": [
    {
     "data": {
      "text/html": [
       "<div>\n",
       "<style scoped>\n",
       "    .dataframe tbody tr th:only-of-type {\n",
       "        vertical-align: middle;\n",
       "    }\n",
       "\n",
       "    .dataframe tbody tr th {\n",
       "        vertical-align: top;\n",
       "    }\n",
       "\n",
       "    .dataframe thead th {\n",
       "        text-align: right;\n",
       "    }\n",
       "</style>\n",
       "<table border=\"1\" class=\"dataframe\">\n",
       "  <thead>\n",
       "    <tr style=\"text-align: right;\">\n",
       "      <th></th>\n",
       "      <th>family</th>\n",
       "      <th>genus</th>\n",
       "      <th>scientificName</th>\n",
       "      <th>locality</th>\n",
       "      <th>publishingOrgKey</th>\n",
       "      <th>decimalLatitude</th>\n",
       "      <th>decimalLongitude</th>\n",
       "      <th>coordinateUncertaintyInMeters</th>\n",
       "      <th>month</th>\n",
       "      <th>year</th>\n",
       "      <th>rightsHolder</th>\n",
       "      <th>recordedBy</th>\n",
       "    </tr>\n",
       "  </thead>\n",
       "  <tbody>\n",
       "    <tr>\n",
       "      <th>20958</th>\n",
       "      <td>Cantharellaceae</td>\n",
       "      <td>Pseudocraterellus</td>\n",
       "      <td>Pseudocraterellus undulatus (Pers.) Rauschert</td>\n",
       "      <td>Bökeberg</td>\n",
       "      <td>883ee5d0-9177-423d-a636-0284e8a4de46</td>\n",
       "      <td>55.540330</td>\n",
       "      <td>13.271690</td>\n",
       "      <td>NaN</td>\n",
       "      <td>10.0</td>\n",
       "      <td>1950</td>\n",
       "      <td>NaN</td>\n",
       "      <td>Olof Andersson</td>\n",
       "    </tr>\n",
       "    <tr>\n",
       "      <th>21110</th>\n",
       "      <td>Cantharellaceae</td>\n",
       "      <td>Pseudocraterellus</td>\n",
       "      <td>Pseudocraterellus undulatus (Pers.) Rauschert</td>\n",
       "      <td>No locality information available</td>\n",
       "      <td>883ee5d0-9177-423d-a636-0284e8a4de46</td>\n",
       "      <td>55.664343</td>\n",
       "      <td>13.344033</td>\n",
       "      <td>NaN</td>\n",
       "      <td>9.0</td>\n",
       "      <td>1950</td>\n",
       "      <td>NaN</td>\n",
       "      <td>Olof Andersson</td>\n",
       "    </tr>\n",
       "    <tr>\n",
       "      <th>21087</th>\n",
       "      <td>Cantharellaceae</td>\n",
       "      <td>Craterellus</td>\n",
       "      <td>Cantharellus lutescens Fr.</td>\n",
       "      <td>Tolvforsskogen, about 2.5 km NNW of Tolvfors</td>\n",
       "      <td>4c415e40-1e21-11de-9e40-a0d6ecebb8bf</td>\n",
       "      <td>NaN</td>\n",
       "      <td>NaN</td>\n",
       "      <td>NaN</td>\n",
       "      <td>8.0</td>\n",
       "      <td>1950</td>\n",
       "      <td>NaN</td>\n",
       "      <td>J.Ax. Nannfeldt</td>\n",
       "    </tr>\n",
       "    <tr>\n",
       "      <th>20954</th>\n",
       "      <td>Cantharellaceae</td>\n",
       "      <td>Pseudocraterellus</td>\n",
       "      <td>Pseudocraterellus undulatus (Pers.) Rauschert</td>\n",
       "      <td>No locality information available</td>\n",
       "      <td>883ee5d0-9177-423d-a636-0284e8a4de46</td>\n",
       "      <td>55.580550</td>\n",
       "      <td>13.254462</td>\n",
       "      <td>NaN</td>\n",
       "      <td>NaN</td>\n",
       "      <td>1950</td>\n",
       "      <td>NaN</td>\n",
       "      <td>Olof Andersson</td>\n",
       "    </tr>\n",
       "    <tr>\n",
       "      <th>21056</th>\n",
       "      <td>Cantharellaceae</td>\n",
       "      <td>Pseudocraterellus</td>\n",
       "      <td>Helvella crispa (Scop.) Fr.</td>\n",
       "      <td>Ronneby</td>\n",
       "      <td>4c415e40-1e21-11de-9e40-a0d6ecebb8bf</td>\n",
       "      <td>NaN</td>\n",
       "      <td>NaN</td>\n",
       "      <td>NaN</td>\n",
       "      <td>10.0</td>\n",
       "      <td>1950</td>\n",
       "      <td>NaN</td>\n",
       "      <td>I. Gullbrandson</td>\n",
       "    </tr>\n",
       "  </tbody>\n",
       "</table>\n",
       "</div>"
      ],
      "text/plain": [
       "                family              genus  \\\n",
       "20958  Cantharellaceae  Pseudocraterellus   \n",
       "21110  Cantharellaceae  Pseudocraterellus   \n",
       "21087  Cantharellaceae        Craterellus   \n",
       "20954  Cantharellaceae  Pseudocraterellus   \n",
       "21056  Cantharellaceae  Pseudocraterellus   \n",
       "\n",
       "                                      scientificName  \\\n",
       "20958  Pseudocraterellus undulatus (Pers.) Rauschert   \n",
       "21110  Pseudocraterellus undulatus (Pers.) Rauschert   \n",
       "21087                     Cantharellus lutescens Fr.   \n",
       "20954  Pseudocraterellus undulatus (Pers.) Rauschert   \n",
       "21056                    Helvella crispa (Scop.) Fr.   \n",
       "\n",
       "                                           locality  \\\n",
       "20958                                      Bökeberg   \n",
       "21110             No locality information available   \n",
       "21087  Tolvforsskogen, about 2.5 km NNW of Tolvfors   \n",
       "20954             No locality information available   \n",
       "21056                                       Ronneby   \n",
       "\n",
       "                           publishingOrgKey  decimalLatitude  \\\n",
       "20958  883ee5d0-9177-423d-a636-0284e8a4de46        55.540330   \n",
       "21110  883ee5d0-9177-423d-a636-0284e8a4de46        55.664343   \n",
       "21087  4c415e40-1e21-11de-9e40-a0d6ecebb8bf              NaN   \n",
       "20954  883ee5d0-9177-423d-a636-0284e8a4de46        55.580550   \n",
       "21056  4c415e40-1e21-11de-9e40-a0d6ecebb8bf              NaN   \n",
       "\n",
       "       decimalLongitude  coordinateUncertaintyInMeters  month  year  \\\n",
       "20958         13.271690                            NaN   10.0  1950   \n",
       "21110         13.344033                            NaN    9.0  1950   \n",
       "21087               NaN                            NaN    8.0  1950   \n",
       "20954         13.254462                            NaN    NaN  1950   \n",
       "21056               NaN                            NaN   10.0  1950   \n",
       "\n",
       "      rightsHolder       recordedBy  \n",
       "20958          NaN   Olof Andersson  \n",
       "21110          NaN   Olof Andersson  \n",
       "21087          NaN  J.Ax. Nannfeldt  \n",
       "20954          NaN   Olof Andersson  \n",
       "21056          NaN  I. Gullbrandson  "
      ]
     },
     "execution_count": 4,
     "metadata": {},
     "output_type": "execute_result"
    }
   ],
   "source": [
    "fungi_clean.head(5)"
   ]
  },
  {
   "cell_type": "code",
   "execution_count": 60,
   "metadata": {},
   "outputs": [],
   "source": [
    "def DataCall(year_num):\n",
    "    data_rh = fungi_clean.loc[fungi_clean['year'] == year_num, 'recordedBy' ]\n",
    "    return data_rh.nunique(dropna=True)\n",
    "\n",
    "#http://pandas.pydata.org/pandas-docs/stable/reference/api/pandas.Series.nunique.html\n",
    "# def DataCall(year_num):\n",
    "#     data_rh = fungi_clean.loc[fungi_clean['year'] == year_num, 'rightsHolder']\n",
    "#     return data_rh.nunique(dropna=True)"
   ]
  },
  {
   "cell_type": "code",
   "execution_count": 61,
   "metadata": {},
   "outputs": [
    {
     "name": "stdout",
     "output_type": "stream",
     "text": [
      "[  3.   4.   4.   7.   6.   1.   2.   8.   4.   0.  11.   4.   4.   9.\n",
      "   5.  10.   6.   6.   4.   0.  13.   5.   8.   3.  15.   4.   2.  16.\n",
      "  17.  26.  22.  15.  14.   8.  41.  36.  21.  17.  47.  23.  33.  35.\n",
      "  46.  70.  47.  49.  55.  71.  90.  48.  85.  92.  68.  71.  90. 102.\n",
      " 103. 107. 138. 132. 185. 235. 153. 162. 253. 260. 288. 501. 295.]\n"
     ]
    }
   ],
   "source": [
    "#totals the number of Recorded by per year.\n",
    "total_month = np.zeros(69)\n",
    "years = np.arange(1950,2019,1)\n",
    "totaler = []\n",
    "for i in years:\n",
    "    temp = DataCall(i)\n",
    "    totaler = np.append(totaler, temp)\n",
    "print(totaler)"
   ]
  },
  {
   "cell_type": "code",
   "execution_count": 63,
   "metadata": {},
   "outputs": [
    {
     "data": {
      "text/plain": [
       "<function matplotlib.pyplot.show(*args, **kw)>"
      ]
     },
     "execution_count": 63,
     "metadata": {},
     "output_type": "execute_result"
    },
    {
     "data": {
      "image/png": "[encoded data removed]",
      "text/plain": [
       "<Figure size 432x288 with 1 Axes>"
      ]
     },
     "metadata": {
      "needs_background": "light"
     },
     "output_type": "display_data"
    }
   ],
   "source": [
    "#Plots the total number of people recording data by years\n",
    "fig = plt.figure()\n",
    "ax = fig.add_subplot(111)\n",
    "ax.set(title = \"Number of People Recording Over the Years\", \n",
    "       xticks = np.arange(1950, 2016,10),\n",
    "       ylabel = \"# of People Recording Cantrelles\",\n",
    "       xlabel = \"Years\")\n",
    "ax.bar(years, totaler, width = .8, color= 'darkgreen')\n",
    "plt.savefig(\"Number_recording.png\", dpi=300)\n",
    "plt.show"
   ]
  },
  {
   "cell_type": "markdown",
   "metadata": {},
   "source": [
    "### Normalized Data"
   ]
  },
  {
   "cell_type": "code",
   "execution_count": 64,
   "metadata": {},
   "outputs": [],
   "source": [
    "# normalizes the data from the year (input) and outputs what percent of observation occured in each of the months\n",
    "def DataCall2(year_range):\n",
    "    \n",
    "    mushrooms = []\n",
    "    \n",
    "    for i in year_range:\n",
    "        data_year = fungi_clean.loc[fungi_clean['year'] == i]\n",
    "        mushrooms = np.append(mushrooms,data_year.shape[0]) \n",
    "        \n",
    "       \n",
    "    return mushrooms"
   ]
  },
  {
   "cell_type": "code",
   "execution_count": 65,
   "metadata": {},
   "outputs": [
    {
     "name": "stderr",
     "output_type": "stream",
     "text": [
      "/Users/louis/anaconda3/lib/python3.7/site-packages/ipykernel_launcher.py:7: RuntimeWarning: invalid value encountered in true_divide\n",
      "  import sys\n"
     ]
    }
   ],
   "source": [
    "# Create random data with numpy\n",
    "import numpy as np\n",
    "\n",
    "years = np.arange(1950,2019,1)\n",
    "annual_occurances = DataCall2(years)\n",
    "    \n",
    "totaler_3_the_reckoning = annual_occurances/totaler"
   ]
  },
  {
   "cell_type": "code",
   "execution_count": 66,
   "metadata": {},
   "outputs": [],
   "source": [
    "# removing the NaNs with 0's\n",
    "totaler_3_the_reckoning[9] = 0\n",
    "totaler_3_the_reckoning[19] = 0"
   ]
  },
  {
   "cell_type": "code",
   "execution_count": 67,
   "metadata": {},
   "outputs": [
    {
     "data": {
      "text/plain": [
       "<function matplotlib.pyplot.show(*args, **kw)>"
      ]
     },
     "execution_count": 67,
     "metadata": {},
     "output_type": "execute_result"
    },
    {
     "data": {
      "image/png": "[encoded data removed]",
      "text/plain": [
       "<Figure size 432x288 with 1 Axes>"
      ]
     },
     "metadata": {
      "needs_background": "light"
     },
     "output_type": "display_data"
    }
   ],
   "source": [
    "#plots normalized occurence by those recorded by\n",
    "fig2 = plt.figure()\n",
    "ax = fig2.add_subplot(111)\n",
    "ax.set(title = \"Number of people recording over the years\", \n",
    "       xticks = np.arange(1950, 2016,10),\n",
    "       ylabel = \"Normalized Yearly Occurance\",\n",
    "       xlabel = \"years\",\n",
    "       xlim = [1950,2015])\n",
    "ax.scatter(years, totaler_3_the_reckoning,)\n",
    "# plt.savefig(\"peak_occurence_3_14.png\", dpi=300)\n",
    "plt.show\n",
    "\n"
   ]
  },
  {
   "cell_type": "markdown",
   "metadata": {},
   "source": [
    "### Normalized occurences correlated to Temperture fig 3\n"
   ]
  },
  {
   "cell_type": "code",
   "execution_count": 68,
   "metadata": {},
   "outputs": [],
   "source": [
    "Column1 = years\n",
    "Column2= np.ones(len(Column1))\n",
    "A = np.column_stack((Column1, Column2))\n",
    "columnC = np.array(totaler_3_the_reckoning)\n",
    "C = np.transpose(columnC)\n",
    "\n",
    "ps = np.linalg.lstsq(A, C, rcond=None)[0]\n",
    "p1 = ps[0]\n",
    "p2 = ps[1]\n",
    "\n",
    "# Create predicted y values for a range of x values\n",
    "xhat = years\n",
    "yhat = p1*xhat + p2"
   ]
  },
  {
   "cell_type": "code",
   "execution_count": 69,
   "metadata": {},
   "outputs": [],
   "source": [
    "def squared_error(regression_line, data):\n",
    "    return sum((regression_line - data)*(regression_line - data))\n",
    "\n",
    "def r_squared(ys_orig,ys_line):\n",
    "    y_mean_line = [np.mean(ys_orig) for y in ys_orig]\n",
    "    squared_error_regr = squared_error(ys_orig, ys_line)\n",
    "    squared_error_y_mean = squared_error(ys_orig, y_mean_line)\n",
    "    return 1 - (squared_error_regr/squared_error_y_mean)"
   ]
  },
  {
   "cell_type": "code",
   "execution_count": 75,
   "metadata": {},
   "outputs": [
    {
     "name": "stdout",
     "output_type": "stream",
     "text": [
      "Our R-squared value is: 0.2585910088463096\n"
     ]
    },
    {
     "data": {
      "text/plain": [
       "<function matplotlib.pyplot.show(*args, **kw)>"
      ]
     },
     "execution_count": 75,
     "metadata": {},
     "output_type": "execute_result"
    },
    {
     "data": {
      "image/png": "[encoded data removed]",
      "text/plain": [
       "<Figure size 432x288 with 1 Axes>"
      ]
     },
     "metadata": {
      "needs_background": "light"
     },
     "output_type": "display_data"
    }
   ],
   "source": [
    "import math as math\n",
    "print(\"Our R-squared value is:\", r_squared(totaler_3_the_reckoning,yhat))\n",
    "fig2 = plt.figure()\n",
    "ax = fig2.add_subplot(111)\n",
    "ax.set(title = \"Occurence Data Normalized by Number of People Recording\", \n",
    "       xticks = np.arange(1950, 2016,10),\n",
    "       ylabel = \"Normalized Yearly Occurance\",\n",
    "       xlabel = \"Years\",\n",
    "       xlim = [1950,2015])\n",
    "ax.scatter(years, totaler_3_the_reckoning, color = 'darkgreen')\n",
    "ax.plot(xhat, yhat, color=\"grey\")\n",
    "plt.savefig(\"normalizedrecording.png\", dpi=300)\n",
    "\n",
    "\n",
    "plt.show\n",
    "\n"
   ]
  },
  {
   "cell_type": "code",
   "execution_count": null,
   "metadata": {},
   "outputs": [],
   "source": []
  }
 ],
 "metadata": {
  "kernelspec": {
   "display_name": "Python 3",
   "language": "python",
   "name": "python3"
  },
  "language_info": {
   "codemirror_mode": {
    "name": "ipython",
    "version": 3
   },
   "file_extension": ".py",
   "mimetype": "text/x-python",
   "name": "python",
   "nbconvert_exporter": "python",
   "pygments_lexer": "ipython3",
   "version": "3.7.1"
  }
 },
 "nbformat": 4,
 "nbformat_minor": 2
}
