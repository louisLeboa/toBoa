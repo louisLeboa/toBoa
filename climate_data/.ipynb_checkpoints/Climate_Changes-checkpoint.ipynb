{
 "cells": [
  {
   "cell_type": "markdown",
   "metadata": {},
   "source": [
    "# Graphing climate data"
   ]
  },
  {
   "cell_type": "code",
   "execution_count": 29,
   "metadata": {},
   "outputs": [],
   "source": [
    "import numpy as np\n",
    "import pandas as pd\n",
    "import matplotlib.pyplot as plt\n",
    "#date formatting\n",
    "import matplotlib.dates as mdates\n",
    "%matplotlib inline\n",
    "\n",
    "#data collected from https://www7.ncdc.noaa.gov/CDO/cdoselect.cmd?datasetabbv=GSOD&countryabbv&georegionabbv"
   ]
  },
  {
   "cell_type": "code",
   "execution_count": 30,
   "metadata": {},
   "outputs": [
    {
     "name": "stdout",
     "output_type": "stream",
     "text": [
      "(3462, 23)\n",
      "       date  temp\n",
      "0  19770701  53.3\n",
      "1  19770705  65.5\n",
      "2  19770710  66.0\n",
      "3  19770715  51.8\n",
      "4  19770720  54.7\n",
      "5  19770725  55.7\n",
      "6  19770729  57.2\n",
      "7  19770801  58.8\n",
      "8  19770805  60.7\n",
      "9  19770810  60.1 \n",
      " (3462, 2)\n"
     ]
    }
   ],
   "source": [
    "# This data is only 6 days out of the month; the website keeps crashing. Code should work, but we can get\n",
    "# more data when I find a workaround later. This is daily mean temp. \n",
    "climate_data = pd.read_csv(\"jonkoping_climate_data.txt\",  delimiter = \",\")\n",
    "print(climate_data.shape)\n",
    "climate_clean = climate_data.drop(['STN---', 'WBAN ','  ', '   DEWP', '  .1', '  SLP  ', '  .2', '  STP  ', \n",
    "                                   '  .3', ' VISIB', '  .4', '  WDSP', '  .5', ' MXSPD', '  GUST', '   MAX  ', \n",
    "                                   '  MIN  ', 'PRCP  ', 'SNDP ', ' FRSHTT', 'Unnamed: 22'], \n",
    "                                  axis = 1)\n",
    "climate_clean.columns = ['date', 'temp']\n",
    "\n",
    "print(climate_clean.head(10), '\\n', climate_clean.shape)"
   ]
  },
  {
   "cell_type": "code",
   "execution_count": 31,
   "metadata": {},
   "outputs": [],
   "source": [
    "# climate_clean['date'] = pd.to_datetime(climate_clean['date'], format = '%Y%m%d')\n",
    "\n",
    "# climate_clean.head(10)\n",
    "\n",
    "# plt.plot(climate_clean[\"date\"], climate_clean['temp'])"
   ]
  },
  {
   "cell_type": "code",
   "execution_count": 32,
   "metadata": {},
   "outputs": [
    {
     "name": "stdout",
     "output_type": "stream",
     "text": [
      "[1977. 1977. 1977. ... 2019. 2019. 2019.]\n"
     ]
    }
   ],
   "source": [
    "# Extracting year from date column \n",
    "year = np.zeros(climate_clean.shape[0])\n",
    "index = 0\n",
    "for i in climate_clean['date']:\n",
    "    curr_year = int(i/10000)\n",
    "    year[index] = int(curr_year)\n",
    "    index = index+1\n",
    "\n",
    "print(year)"
   ]
  },
  {
   "cell_type": "code",
   "execution_count": 33,
   "metadata": {},
   "outputs": [
    {
     "name": "stdout",
     "output_type": "stream",
     "text": [
      "[7. 7. 7. ... 2. 3. 3.]\n"
     ]
    }
   ],
   "source": [
    "# Extracting month from date Column\n",
    "month = np.zeros(climate_clean.shape[0])\n",
    "index = 0\n",
    "for i in climate_clean['date']:\n",
    "    curr_month = int(((i)/100)%100)\n",
    "    month[index] = int(curr_month)\n",
    "    index = index+1\n",
    "\n",
    "print(month)"
   ]
  },
  {
   "cell_type": "code",
   "execution_count": 34,
   "metadata": {},
   "outputs": [
    {
     "name": "stdout",
     "output_type": "stream",
     "text": [
      "   temp    year  month\n",
      "0  53.3  1977.0    7.0\n",
      "1  65.5  1977.0    7.0\n",
      "2  66.0  1977.0    7.0\n",
      "3  51.8  1977.0    7.0\n",
      "4  54.7  1977.0    7.0\n",
      "5  55.7  1977.0    7.0\n",
      "6  57.2  1977.0    7.0\n",
      "7  58.8  1977.0    8.0\n",
      "8  60.7  1977.0    8.0\n",
      "9  60.1  1977.0    8.0 \n",
      " (3462, 3)\n"
     ]
    }
   ],
   "source": [
    "# inputting month and year into main df, dropping date\n",
    "climate_clean['year'] =  year\n",
    "climate_clean['month'] =  month \n",
    "climate_clean = climate_clean.drop('date', axis = 1)\n",
    "\n",
    "print(climate_clean.head(10), '\\n', climate_clean.shape)"
   ]
  },
  {
   "cell_type": "code",
   "execution_count": 35,
   "metadata": {},
   "outputs": [
    {
     "data": {
      "text/html": [
       "<div>\n",
       "<style scoped>\n",
       "    .dataframe tbody tr th:only-of-type {\n",
       "        vertical-align: middle;\n",
       "    }\n",
       "\n",
       "    .dataframe tbody tr th {\n",
       "        vertical-align: top;\n",
       "    }\n",
       "\n",
       "    .dataframe thead th {\n",
       "        text-align: right;\n",
       "    }\n",
       "</style>\n",
       "<table border=\"1\" class=\"dataframe\">\n",
       "  <thead>\n",
       "    <tr style=\"text-align: right;\">\n",
       "      <th></th>\n",
       "      <th>year</th>\n",
       "      <th>month</th>\n",
       "      <th>mean temp</th>\n",
       "    </tr>\n",
       "  </thead>\n",
       "  <tbody>\n",
       "    <tr>\n",
       "      <th>6</th>\n",
       "      <td>1977.0</td>\n",
       "      <td>7.0</td>\n",
       "      <td>57.742857</td>\n",
       "    </tr>\n",
       "    <tr>\n",
       "      <th>7</th>\n",
       "      <td>1977.0</td>\n",
       "      <td>8.0</td>\n",
       "      <td>56.871429</td>\n",
       "    </tr>\n",
       "    <tr>\n",
       "      <th>8</th>\n",
       "      <td>1977.0</td>\n",
       "      <td>9.0</td>\n",
       "      <td>47.914286</td>\n",
       "    </tr>\n",
       "    <tr>\n",
       "      <th>9</th>\n",
       "      <td>1977.0</td>\n",
       "      <td>10.0</td>\n",
       "      <td>46.257143</td>\n",
       "    </tr>\n",
       "    <tr>\n",
       "      <th>10</th>\n",
       "      <td>1977.0</td>\n",
       "      <td>11.0</td>\n",
       "      <td>38.185714</td>\n",
       "    </tr>\n",
       "    <tr>\n",
       "      <th>11</th>\n",
       "      <td>1977.0</td>\n",
       "      <td>12.0</td>\n",
       "      <td>31.000000</td>\n",
       "    </tr>\n",
       "    <tr>\n",
       "      <th>12</th>\n",
       "      <td>1978.0</td>\n",
       "      <td>1.0</td>\n",
       "      <td>29.500000</td>\n",
       "    </tr>\n",
       "  </tbody>\n",
       "</table>\n",
       "</div>"
      ],
      "text/plain": [
       "      year  month  mean temp\n",
       "6   1977.0    7.0  57.742857\n",
       "7   1977.0    8.0  56.871429\n",
       "8   1977.0    9.0  47.914286\n",
       "9   1977.0   10.0  46.257143\n",
       "10  1977.0   11.0  38.185714\n",
       "11  1977.0   12.0  31.000000\n",
       "12  1978.0    1.0  29.500000"
      ]
     },
     "execution_count": 35,
     "metadata": {},
     "output_type": "execute_result"
    }
   ],
   "source": [
    "# Extracting monthly average temperature \n",
    "years = np.arange(np.min(climate_clean['year']),2020)\n",
    "months = np.arange(1,13)\n",
    "index = 0 \n",
    "df_length = int(climate_clean.shape[0] / 6) \n",
    "monthly_avg_temp = np.zeros((df_length,3))\n",
    "for y in years:\n",
    "    for m in months:\n",
    "        temp_temp = climate_clean[(climate_clean['month'] == m) & (climate_clean['year'] == y)]['temp'] \n",
    "        monthly_avg_temp[index, 0] = y\n",
    "        monthly_avg_temp[index, 1] = m \n",
    "        monthly_avg_temp[index, 2] = np.mean(temp_temp)\n",
    "        index =  index + 1\n",
    "        \n",
    "monthly_avg_temp = pd.DataFrame(monthly_avg_temp).dropna()\n",
    "monthly_avg_temp.columns =  ['year', 'month', 'mean temp']\n",
    "monthly_avg_temp.head(7)"
   ]
  },
  {
   "cell_type": "code",
   "execution_count": 36,
   "metadata": {},
   "outputs": [],
   "source": [
    "\n",
    "Column1 = monthly_avg_temp['year']\n",
    "Column2= np.ones(len(Column1))\n",
    "A = np.column_stack((Column1, Column2))\n",
    "columnC = np.array(monthly_avg_temp['mean temp'])\n",
    "C = np.transpose(columnC)\n",
    "\n",
    "ps = np.linalg.lstsq(A, C, rcond=None)[0]\n",
    "p1 = ps[0]\n",
    "p2 = ps[1]\n",
    "\n",
    "# Create predicted y values for a range of x values\n",
    "xhat = np.arange(1860, \n",
    "                 max(monthly_avg_temp['year'])+1)\n",
    "yhat = p1*xhat + p2"
   ]
  },
  {
   "cell_type": "code",
   "execution_count": 44,
   "metadata": {},
   "outputs": [
    {
     "data": {
      "image/png": "[encoded data removed]",
      "text/plain": [
       "<Figure size 432x288 with 1 Axes>"
      ]
     },
     "metadata": {
      "needs_background": "light"
     },
     "output_type": "display_data"
    }
   ],
   "source": [
    "fig = plt.figure()\n",
    "\n",
    "\n",
    "ax = fig.add_subplot(111)\n",
    "ax.set(title = 'Mean Temperature over Time in Jonköpping',\n",
    "       xlabel = 'Year',\n",
    "       ylabel = 'Temperature',\n",
    "       ylim = [42, 44],\n",
    "       xlim = [1975, 2020])\n",
    "\n",
    "ax.scatter(monthly_avg_temp['year'], \n",
    "           monthly_avg_temp['mean temp'], color = 'green')\n",
    "\n",
    "\n",
    "ax.plot(xhat, yhat, color=\"grey\", label = \"average\")\n",
    "\n",
    "plt.legend()\n",
    "plt.savefig(\"climate_data.png\", dpi=300)\n",
    "plt.show()"
   ]
  },
  {
   "cell_type": "code",
   "execution_count": null,
   "metadata": {},
   "outputs": [],
   "source": []
  },
  {
   "cell_type": "code",
   "execution_count": null,
   "metadata": {},
   "outputs": [],
   "source": []
  },
  {
   "cell_type": "code",
   "execution_count": null,
   "metadata": {},
   "outputs": [],
   "source": []
  }
 ],
 "metadata": {
  "kernelspec": {
   "display_name": "Python 3",
   "language": "python",
   "name": "python3"
  },
  "language_info": {
   "codemirror_mode": {
    "name": "ipython",
    "version": 3
   },
   "file_extension": ".py",
   "mimetype": "text/x-python",
   "name": "python",
   "nbconvert_exporter": "python",
   "pygments_lexer": "ipython3",
   "version": "3.7.1"
  },
  "widgets": {
   "application/vnd.jupyter.widget-state+json": {
    "state": {},
    "version_major": 2,
    "version_minor": 0
   }
  }
 },
 "nbformat": 4,
 "nbformat_minor": 2
}
